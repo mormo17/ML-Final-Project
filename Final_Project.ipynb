{
 "cells": [
  {
   "cell_type": "markdown",
   "metadata": {},
   "source": [
    "# Libraries"
   ]
  },
  {
   "cell_type": "code",
   "execution_count": 1,
   "metadata": {},
   "outputs": [],
   "source": [
    "import pandas as pd\n",
    "import json\n",
    "import matplotlib.pyplot as plt\n",
    "import statistics as stats\n",
    "import numpy as np\n",
    "import seaborn as sb\n",
    "\n",
    "from surprise import Dataset\n",
    "from surprise import Reader\n",
    "from surprise import KNNWithMeans\n",
    "from sklearn.metrics import mean_squared_error\n",
    "from sklearn.preprocessing import StandardScaler\n",
    "from sklearn.decomposition import PCA\n",
    "from sklearn.cluster import KMeans\n",
    "from sklearn.metrics import silhouette_score\n",
    "from datetime import timedelta, date, datetime"
   ]
  },
  {
   "cell_type": "markdown",
   "metadata": {},
   "source": [
    "## Our Research Details"
   ]
  },
  {
   "cell_type": "markdown",
   "metadata": {},
   "source": [
    "### &nbsp;&nbsp;&nbsp;&nbsp;Pure exploration and analysis of data in order to see its potential"
   ]
  },
  {
   "cell_type": "markdown",
   "metadata": {},
   "source": [
    "### &nbsp;&nbsp;&nbsp;&nbsp;User clusterning, as the easiest target of interest for businesses"
   ]
  },
  {
   "cell_type": "markdown",
   "metadata": {},
   "source": [
    "### &nbsp;&nbsp;&nbsp;&nbsp;Building product (dish) recommendation system, the most usefull oportunity as seen by us"
   ]
  },
  {
   "cell_type": "markdown",
   "metadata": {},
   "source": [
    "# Data analysis"
   ]
  },
  {
   "cell_type": "markdown",
   "metadata": {},
   "source": [
    "First, let's find out what our data actually contains."
   ]
  },
  {
   "cell_type": "code",
   "execution_count": 2,
   "metadata": {},
   "outputs": [],
   "source": [
    "data = pd.read_csv(\"Local/mfp-diaries.tsv\", sep='\\t', header=None, names=[\"user_id\", \"diary_date\", \"food_list\", \"daily_intake_and_goal\"])"
   ]
  },
  {
   "cell_type": "markdown",
   "metadata": {},
   "source": [
    "### Observation"
   ]
  },
  {
   "cell_type": "code",
   "execution_count": 3,
   "metadata": {},
   "outputs": [
    {
     "data": {
      "text/html": [
       "<div>\n",
       "<style scoped>\n",
       "    .dataframe tbody tr th:only-of-type {\n",
       "        vertical-align: middle;\n",
       "    }\n",
       "\n",
       "    .dataframe tbody tr th {\n",
       "        vertical-align: top;\n",
       "    }\n",
       "\n",
       "    .dataframe thead th {\n",
       "        text-align: right;\n",
       "    }\n",
       "</style>\n",
       "<table border=\"1\" class=\"dataframe\">\n",
       "  <thead>\n",
       "    <tr style=\"text-align: right;\">\n",
       "      <th></th>\n",
       "      <th>user_id</th>\n",
       "      <th>diary_date</th>\n",
       "      <th>food_list</th>\n",
       "      <th>daily_intake_and_goal</th>\n",
       "    </tr>\n",
       "  </thead>\n",
       "  <tbody>\n",
       "    <tr>\n",
       "      <th>0</th>\n",
       "      <td>1</td>\n",
       "      <td>2014-09-14</td>\n",
       "      <td>[{\"meal\": \"MY food\", \"dishes\": [{\"nutritions\":...</td>\n",
       "      <td>{\"total\": [{\"name\": \"Calories\", \"value\": 2924}...</td>\n",
       "    </tr>\n",
       "    <tr>\n",
       "      <th>1</th>\n",
       "      <td>1</td>\n",
       "      <td>2014-09-15</td>\n",
       "      <td>[{\"meal\": \"MY food\", \"dishes\": [{\"nutritions\":...</td>\n",
       "      <td>{\"total\": [{\"name\": \"Calories\", \"value\": 2430}...</td>\n",
       "    </tr>\n",
       "    <tr>\n",
       "      <th>2</th>\n",
       "      <td>1</td>\n",
       "      <td>2014-09-16</td>\n",
       "      <td>[{\"meal\": \"MY food\", \"dishes\": [{\"nutritions\":...</td>\n",
       "      <td>{\"total\": [{\"name\": \"Calories\", \"value\": 1862}...</td>\n",
       "    </tr>\n",
       "    <tr>\n",
       "      <th>3</th>\n",
       "      <td>1</td>\n",
       "      <td>2014-09-17</td>\n",
       "      <td>[{\"meal\": \"MY food\", \"dishes\": [{\"nutritions\":...</td>\n",
       "      <td>{\"total\": [{\"name\": \"Calories\", \"value\": 2251}...</td>\n",
       "    </tr>\n",
       "    <tr>\n",
       "      <th>4</th>\n",
       "      <td>1</td>\n",
       "      <td>2014-09-18</td>\n",
       "      <td>[{\"meal\": \"MY food\", \"dishes\": [{\"nutritions\":...</td>\n",
       "      <td>{\"total\": [{\"name\": \"Calories\", \"value\": 2001}...</td>\n",
       "    </tr>\n",
       "  </tbody>\n",
       "</table>\n",
       "</div>"
      ],
      "text/plain": [
       "   user_id  diary_date                                          food_list  \\\n",
       "0        1  2014-09-14  [{\"meal\": \"MY food\", \"dishes\": [{\"nutritions\":...   \n",
       "1        1  2014-09-15  [{\"meal\": \"MY food\", \"dishes\": [{\"nutritions\":...   \n",
       "2        1  2014-09-16  [{\"meal\": \"MY food\", \"dishes\": [{\"nutritions\":...   \n",
       "3        1  2014-09-17  [{\"meal\": \"MY food\", \"dishes\": [{\"nutritions\":...   \n",
       "4        1  2014-09-18  [{\"meal\": \"MY food\", \"dishes\": [{\"nutritions\":...   \n",
       "\n",
       "                               daily_intake_and_goal  \n",
       "0  {\"total\": [{\"name\": \"Calories\", \"value\": 2924}...  \n",
       "1  {\"total\": [{\"name\": \"Calories\", \"value\": 2430}...  \n",
       "2  {\"total\": [{\"name\": \"Calories\", \"value\": 1862}...  \n",
       "3  {\"total\": [{\"name\": \"Calories\", \"value\": 2251}...  \n",
       "4  {\"total\": [{\"name\": \"Calories\", \"value\": 2001}...  "
      ]
     },
     "execution_count": 3,
     "metadata": {},
     "output_type": "execute_result"
    }
   ],
   "source": [
    "data.head()"
   ]
  },
  {
   "cell_type": "code",
   "execution_count": 4,
   "metadata": {},
   "outputs": [
    {
     "name": "stdout",
     "output_type": "stream",
     "text": [
      "int64\n",
      "object\n",
      "object\n",
      "object\n"
     ]
    }
   ],
   "source": [
    "print(data['user_id'].dtype)\n",
    "print(data['diary_date'].dtype)\n",
    "print(data['food_list'].dtype)\n",
    "print(data['daily_intake_and_goal'].dtype)"
   ]
  },
  {
   "cell_type": "markdown",
   "metadata": {},
   "source": [
    "We can see that our data has 4 columns.  \n",
    "First is user_id: user identifier - integer.  \n",
    "Second is diary_date: entry date of information - string (object in Pandas’ world is string (text)).  \n",
    "Third is food_list: For each entry it has meal name and its content (dishes with its nutrients and calories) - string.  \n",
    "Fourth is daily_intake_and_goal: user's real intake and goal calories and nutrients."
   ]
  },
  {
   "cell_type": "markdown",
   "metadata": {},
   "source": [
    "Number of data's entries and features"
   ]
  },
  {
   "cell_type": "code",
   "execution_count": 5,
   "metadata": {},
   "outputs": [
    {
     "data": {
      "text/plain": [
       "(587187, 4)"
      ]
     },
     "execution_count": 5,
     "metadata": {},
     "output_type": "execute_result"
    }
   ],
   "source": [
    "data.shape"
   ]
  },
  {
   "cell_type": "markdown",
   "metadata": {},
   "source": [
    "Quickly checking if there are some duplicated rows in our data, because we don't need excessive information"
   ]
  },
  {
   "cell_type": "code",
   "execution_count": 6,
   "metadata": {},
   "outputs": [
    {
     "name": "stdout",
     "output_type": "stream",
     "text": [
      "Duplicated rows: 0\n"
     ]
    }
   ],
   "source": [
    "print(f\"Duplicated rows: {data.duplicated().sum()}\")"
   ]
  },
  {
   "cell_type": "markdown",
   "metadata": {},
   "source": [
    "There are none.  \n",
    "Now we check if there are any missing values in our data, later on it may cause problems (For example, if we decide to use K-means clustering; it can't handle missing values)."
   ]
  },
  {
   "cell_type": "code",
   "execution_count": 7,
   "metadata": {},
   "outputs": [
    {
     "name": "stdout",
     "output_type": "stream",
     "text": [
      "Missing values in each variable: \n",
      "user_id                  0\n",
      "diary_date               0\n",
      "food_list                0\n",
      "daily_intake_and_goal    0\n",
      "dtype: int64\n"
     ]
    }
   ],
   "source": [
    "print(f\"Missing values in each variable: \\n{data.isnull().sum()}\")"
   ]
  },
  {
   "cell_type": "markdown",
   "metadata": {},
   "source": [
    "Fortunatelly, no missing values are in our data."
   ]
  },
  {
   "cell_type": "markdown",
   "metadata": {},
   "source": [
    "Our data spans following time range:"
   ]
  },
  {
   "cell_type": "code",
   "execution_count": 8,
   "metadata": {},
   "outputs": [
    {
     "name": "stdout",
     "output_type": "stream",
     "text": [
      "Start Date:  2014-09-14\n",
      "Final Date:  2015-04-09\n"
     ]
    }
   ],
   "source": [
    "start_date = data[data.columns[1]].unique().min()\n",
    "final_date = data[data.columns[1]].unique().max()\n",
    "print(\"Start Date: \", start_date)\n",
    "print(\"Final Date: \", final_date)"
   ]
  },
  {
   "cell_type": "markdown",
   "metadata": {},
   "source": [
    "It seems like nearly 590k input was submitted in less than a year.  \n",
    "Now let's see how many distinct dates we have, it should be important later on to consider how consistent users actually were while submitting their data.\n"
   ]
  },
  {
   "cell_type": "code",
   "execution_count": 9,
   "metadata": {},
   "outputs": [
    {
     "name": "stdout",
     "output_type": "stream",
     "text": [
      "Distinct Dates:  208\n"
     ]
    }
   ],
   "source": [
    "print(\"Distinct Dates: \", len(data[data.columns[1]].unique()))"
   ]
  },
  {
   "cell_type": "markdown",
   "metadata": {},
   "source": [
    "It turns out that there are no duplicated dates, because 208 is literally number of days between Start and Final Dates.  \n",
    "However, it's interesting to know, if users were equally excited to submit their data during these 208 days, let's find out:"
   ]
  },
  {
   "cell_type": "code",
   "execution_count": 10,
   "metadata": {},
   "outputs": [
    {
     "data": {
      "image/png": "[encoded data removed]",
      "text/plain": [
       "<Figure size 432x288 with 1 Axes>"
      ]
     },
     "metadata": {
      "needs_background": "light"
     },
     "output_type": "display_data"
    }
   ],
   "source": [
    "start = datetime.strptime(str(start_date),'%Y-%m-%d').date()\n",
    "final = datetime.strptime(str(final_date),'%Y-%m-%d').date()\n",
    "activity = np.zeros(data[data.columns[0]].unique().max())\n",
    "for i in range(int((final - start).days) + 1):\n",
    "    curr_date = start + timedelta(i)\n",
    "    curr_date_string = curr_date.strftime('%Y-%m-%d')\n",
    "    curr_date = data[data[data.columns[1]] == curr_date_string]\n",
    "    for j in range(curr_date.shape[0]):\n",
    "        activity[curr_date.iloc[j,0]-1]+=1\n",
    "\n",
    "plt.hist(activity, bins=50)\n",
    "plt.ylabel('Frequency')\n",
    "plt.title('Frequency of User Activity')\n",
    "plt.show()"
   ]
  },
  {
   "cell_type": "markdown",
   "metadata": {},
   "source": [
    "As we can see, at the begining of data entry user activity is quite high, but as time passes activity continues to drop exponentially.  \n",
    "We also see, that at some point towards the end, activity grows again for a blink. This may be related to the app's popularity in general (for example, let's suppose that loyal users were submmiting data all along, but when this application was advertised some other random poeple also got interested, but their activity was not consistent).\n",
    "\n",
    "In particular, at some point, very popular sports brand \"Under Armour\" actively started buying sports apps and in feburary 4th of 2015 it also acquired MyFitnessPal, the app behind the data we're handling. This is consistent with the growth in the graph above, though it seems like this popularity didn't last long for MyFitnessPal. Right now Under Armour is selling MyFitnessPal for 130 million dollars less than it initialy bought it."
   ]
  },
  {
   "cell_type": "markdown",
   "metadata": {},
   "source": [
    "Now, let's quickly observe actual food input and its content for our deep understanding and flexibility. As we noted, every food input has its content."
   ]
  },
  {
   "cell_type": "code",
   "execution_count": 11,
   "metadata": {},
   "outputs": [
    {
     "name": "stdout",
     "output_type": "stream",
     "text": [
      "[{'meal': 'MY food', 'dishes': [{'nutritions': [{'name': 'Calories', 'value': '412'}, {'name': 'Carbs', 'value': '29'}, {'name': 'Fat', 'value': '24'}, {'name': 'Protein', 'value': '21'}, {'name': 'Sodium', 'value': '258'}, {'name': 'Sugar', 'value': '29'}], 'name': 'my - McDonalds Espresso Pronto® Flat White, 2 TALL'}, {'nutritions': [{'name': 'Calories', 'value': '170'}, {'name': 'Carbs', 'value': '25'}, {'name': 'Fat', 'value': '5'}, {'name': 'Protein', 'value': '20'}, {'name': 'Sodium', 'value': '260'}, {'name': 'Sugar', 'value': '2'}], 'name': 'Quest Bar - Banana Nut Muffin Natural Protein Bar, 60 g'}, {'nutritions': [{'name': 'Calories', 'value': '176'}, {'name': 'Carbs', 'value': '33'}, {'name': 'Fat', 'value': '1'}, {'name': 'Protein', 'value': '5'}, {'name': 'Sodium', 'value': '195'}, {'name': 'Sugar', 'value': '0'}], 'name': 'Uncle Tobys Australia - Vita Brits, 3 Biscuits 33.3g'}, {'nutritions': [{'name': 'Calories', 'value': '342'}, {'name': 'Carbs', 'value': '34'}, {'name': 'Fat', 'value': '12'}, {'name': 'Protein', 'value': '24'}, {'name': 'Sodium', 'value': '402'}, {'name': 'Sugar', 'value': '34'}], 'name': 'Pauls - Smarter White Milk, 600 ml'}, {'nutritions': [{'name': 'Calories', 'value': '180'}, {'name': 'Carbs', 'value': '22'}, {'name': 'Fat', 'value': '7'}, {'name': 'Protein', 'value': '21'}, {'name': 'Sodium', 'value': '310'}, {'name': 'Sugar', 'value': '1'}], 'name': 'Quest Bar - Cookies and Cream, 1 bar'}, {'nutritions': [{'name': 'Calories', 'value': '180'}, {'name': 'Carbs', 'value': '46'}, {'name': 'Fat', 'value': '0'}, {'name': 'Protein', 'value': '0'}, {'name': 'Sodium', 'value': '100'}, {'name': 'Sugar', 'value': '22'}], 'name': 'Gu Sports - Chomps, 8 pieces'}, {'nutritions': [{'name': 'Calories', 'value': '170'}, {'name': 'Carbs', 'value': '25'}, {'name': 'Fat', 'value': '5'}, {'name': 'Protein', 'value': '20'}, {'name': 'Sodium', 'value': '260'}, {'name': 'Sugar', 'value': '2'}], 'name': 'Quest Bar - Banana Nut Muffin Natural Protein Bar, 60 g'}, {'nutritions': [{'name': 'Calories', 'value': '160'}, {'name': 'Carbs', 'value': '25'}, {'name': 'Fat', 'value': '5'}, {'name': 'Protein', 'value': '20'}, {'name': 'Sodium', 'value': '240'}, {'name': 'Sugar', 'value': '2'}], 'name': 'Quest - Protein Bar Chocolate Peanut Butter, 1 bar (60 g)'}, {'nutritions': [{'name': 'Calories', 'value': '686'}, {'name': 'Carbs', 'value': '59'}, {'name': 'Fat', 'value': '31'}, {'name': 'Protein', 'value': '40'}, {'name': 'Sodium', 'value': '1,105'}, {'name': 'Sugar', 'value': '9'}], 'name': 'Grilld - Simply Grilled (Real), 1.25 burger'}, {'nutritions': [{'name': 'Calories', 'value': '252'}, {'name': 'Carbs', 'value': '27'}, {'name': 'Fat', 'value': '14'}, {'name': 'Protein', 'value': '5'}, {'name': 'Sodium', 'value': '352'}, {'name': 'Sugar', 'value': '1'}], 'name': 'Grilld - Snack Chips, 1 snack size'}, {'nutritions': [{'name': 'Calories', 'value': '196'}, {'name': 'Carbs', 'value': '15'}, {'name': 'Fat', 'value': '10'}, {'name': 'Protein', 'value': '10'}, {'name': 'Sodium', 'value': '176'}, {'name': 'Sugar', 'value': '7'}], 'name': 'Tasti - Salted Caramel Protein Bar, 40 g'}], 'sequence': 1}]\n"
     ]
    }
   ],
   "source": [
    "food_entries = json.loads(data.iloc[0, 2])\n",
    "print(food_entries)"
   ]
  },
  {
   "cell_type": "markdown",
   "metadata": {},
   "source": [
    "It comes clear how each input has information about its energetic value plus nutrients, which itself has array of names and corresponding values. Let's find out how many distinct \"nutrients\" there are in our data:"
   ]
  },
  {
   "cell_type": "code",
   "execution_count": 12,
   "metadata": {},
   "outputs": [
    {
     "name": "stdout",
     "output_type": "stream",
     "text": [
      "dict_keys(['Calories', 'Carbs', 'Fat', 'Protein', 'Sodium', 'Sugar', 'Fiber', 'Potass.', 'Iron', 'Calcium', 'Sat Fat', 'Chol', 'Vit A', 'Vit C', 'Trn Fat', 'Mon Fat', 'Ply Fat'])\n",
      "Number of Distinct Nutrients in our data: 17\n"
     ]
    }
   ],
   "source": [
    "distinct_nutritions = {}\n",
    "for i in range(data.shape[0]):\n",
    "    food_input = json.loads(data.iloc[i,2])\n",
    "    for j in range(len(food_input)):\n",
    "        dishes = food_input[j]['dishes']\n",
    "        for dish in range(len(dishes)):\n",
    "            nutritions = dishes[dish]['nutritions']\n",
    "            for nutrient in range(len(nutritions)):\n",
    "                nutrient_name = nutritions[nutrient]['name']\n",
    "                if nutrient_name in distinct_nutritions.keys():  # if already encountered\n",
    "                    distinct_nutritions[nutrient_name] += 1\n",
    "                else:\n",
    "                    distinct_nutritions[nutrient_name] = 1\n",
    "                    \n",
    "print(distinct_nutritions.keys())\n",
    "number_of_distinct_nutrients = len(distinct_nutritions.keys())\n",
    "print(\"Number of Distinct Nutrients in our data: \" + str(number_of_distinct_nutrients))"
   ]
  },
  {
   "cell_type": "markdown",
   "metadata": {},
   "source": [
    "It turns out that we have 17 unique nutrient inputs. Let's see their distribution:"
   ]
  },
  {
   "cell_type": "code",
   "execution_count": 13,
   "metadata": {},
   "outputs": [
    {
     "data": {
      "image/png": "[encoded data removed]",
      "text/plain": [
       "<Figure size 2160x576 with 1 Axes>"
      ]
     },
     "metadata": {
      "needs_background": "light"
     },
     "output_type": "display_data"
    }
   ],
   "source": [
    "nutrients = sorted(distinct_nutritions.items(), key=lambda x : x[1], reverse = True)\n",
    "keys = {}\n",
    "for nutrient in nutrients:\n",
    "    keys[nutrient[0]] = nutrient[1]\n",
    "plt.figure(figsize = (30,8))\n",
    "plt.bar(x = keys.keys(), height = distinct_nutritions.values())\n",
    "plt.title('Number of occurrences for Distinct Nutrient', size=40)\n",
    "plt.show()"
   ]
  },
  {
   "cell_type": "markdown",
   "metadata": {},
   "source": [
    "The most frequently stored item is calories, the most frequent nutrients are obviously macronutrients: protein, carbs and fat.  \n",
    "Somewhat popular are Sodium, sugar and fiber.  \n",
    "Rest of the nutrients are pretty rare. Let's not consider them for now and see distribution of popular and somewhat popular nutrients."
   ]
  },
  {
   "cell_type": "code",
   "execution_count": 14,
   "metadata": {},
   "outputs": [
    {
     "data": {
      "image/png": "[encoded data removed]",
      "text/plain": [
       "<Figure size 720x360 with 1 Axes>"
      ]
     },
     "metadata": {},
     "output_type": "display_data"
    }
   ],
   "source": [
    "populars = {}\n",
    "unpopulars =['Vit A', 'Vit C', 'Trn Fat', 'Potass.',\n",
    "                    'Mon Fat', 'Ply Fat','Iron','Calcium','Chol','Sat Fat']\n",
    "for nutrient_name in keys.keys():\n",
    "    if nutrient_name not in unpopulars:\n",
    "        populars[nutrient_name] = keys[nutrient_name]\n",
    "\n",
    "plt.figure(figsize=(10,5))\n",
    "plt.pie(populars.values(), labels = populars.keys(), autopct = \"%1.1f%%\")\n",
    "plt.show()"
   ]
  },
  {
   "cell_type": "markdown",
   "metadata": {},
   "source": [
    "##### Little observations that we don't want to ignore"
   ]
  },
  {
   "cell_type": "markdown",
   "metadata": {},
   "source": [
    "We explored some random columns (as much as we thought was nearly enough) and found out that some not so consistent, :) users have ruined statistics. For example, there are cases when users don't submit full data: number of their daily meals is one instead of 3 or 4. These users can be considered seperatly and they can have indipendent statistical importance. We may conclude that these kind of users:  \n",
    "1. are busy and don't have time to enter every meal they eat and use this app every day consistently;  \n",
    "2. (even sadder) do not eat because of work and busyness or depression;  \n",
    "Either way we thought these cases were worth noting.\n",
    "\n",
    "In addition, every food name contains coressponding quantitative description at the end, but it is not consistent unfortunatelly. Our observation showd that some food is described in grams, others in mililiters or cups or number of sticks and so on. We think, this really cuts oportunities for this data as consistent weight information could be of great use.\n",
    "\n",
    "Data inconsistency makes our task harder, but it's a norm when handling human input data.\n",
    "It's interesting to note, that app developers have the ability to take future ML analysis into consideration and restrain users to be clear and consistent, but different companies take different approach."
   ]
  },
  {
   "cell_type": "markdown",
   "metadata": {},
   "source": []
  },
  {
   "cell_type": "markdown",
   "metadata": {},
   "source": [
    "**Sample row for convenience**"
   ]
  },
  {
   "cell_type": "code",
   "execution_count": 15,
   "metadata": {},
   "outputs": [
    {
     "name": "stdout",
     "output_type": "stream",
     "text": [
      "[{'meal': 'Breakfast', 'dishes': [{'nutritions': [{'name': 'Calories', 'value': '90'}, {'name': 'Carbs', 'value': '7'}, {'name': 'Fat', 'value': '1'}, {'name': 'Protein', 'value': '12'}, {'name': 'Sodium', 'value': '75'}, {'name': 'Sugar', 'value': '1'}], 'name': 'Body by Vi - Vi-shape Shake Mix, 2 rounded scoops'}, {'nutritions': [{'name': 'Calories', 'value': '40'}, {'name': 'Carbs', 'value': '2'}, {'name': 'Fat', 'value': '3'}, {'name': 'Protein', 'value': '1'}, {'name': 'Sodium', 'value': '180'}, {'name': 'Sugar', 'value': '0'}], 'name': 'Aldi Friendly Farms - Unsweetened All Natural Vanilla Almond Milk, 8 fl oz'}], 'sequence': 1}, {'meal': 'Lunch', 'dishes': [{'nutritions': [{'name': 'Calories', 'value': '600'}, {'name': 'Carbs', 'value': '25'}, {'name': 'Fat', 'value': '33'}, {'name': 'Protein', 'value': '18'}, {'name': 'Sodium', 'value': '895'}, {'name': 'Sugar', 'value': '4'}], 'name': \"Ted's Ct - Steamed Cheeseburger, 1 burger\"}], 'sequence': 2}, {'meal': 'Dinner', 'dishes': [{'nutritions': [{'name': 'Calories', 'value': '200'}, {'name': 'Carbs', 'value': '40'}, {'name': 'Fat', 'value': '4'}, {'name': 'Protein', 'value': '6'}, {'name': 'Sodium', 'value': '280'}, {'name': 'Sugar', 'value': '2'}], 'name': \"Cherrios- General Mills - Cereal ', 2 cup\"}, {'nutritions': [{'name': 'Calories', 'value': '160'}, {'name': 'Carbs', 'value': '13'}, {'name': 'Fat', 'value': '9'}, {'name': 'Protein', 'value': '8'}, {'name': 'Sodium', 'value': '130'}, {'name': 'Sugar', 'value': '12'}], 'name': 'Milk - Whole Milk, 1 cup (240mL)'}], 'sequence': 3}, {'meal': 'Snacks', 'dishes': [{'nutritions': [{'name': 'Calories', 'value': '120'}, {'name': 'Carbs', 'value': '0'}, {'name': 'Fat', 'value': '10'}, {'name': 'Protein', 'value': '6'}, {'name': 'Sodium', 'value': '180'}, {'name': 'Sugar', 'value': '0'}], 'name': 'Cheese Stick - Cracker Barrel Kraft, 1 stick (28g)'}, {'nutritions': [{'name': 'Calories', 'value': '140'}, {'name': 'Carbs', 'value': '0'}, {'name': 'Fat', 'value': '13'}, {'name': 'Protein', 'value': '5'}, {'name': 'Sodium', 'value': '490'}, {'name': 'Sugar', 'value': '0'}], 'name': 'Hormel - Pepperoni Stix, 1 stick'}, {'nutritions': [{'name': 'Calories', 'value': '100'}, {'name': 'Carbs', 'value': '17'}, {'name': 'Fat', 'value': '0'}, {'name': 'Protein', 'value': '2'}, {'name': 'Sodium', 'value': '0'}, {'name': 'Sugar', 'value': '15'}], 'name': 'Fruit - Large Peach, 1 peach'}, {'nutritions': [{'name': 'Calories', 'value': '2'}, {'name': 'Carbs', 'value': '0'}, {'name': 'Fat', 'value': '0'}, {'name': 'Protein', 'value': '0'}, {'name': 'Sodium', 'value': '4'}, {'name': 'Sugar', 'value': '0'}], 'name': 'Green Mountain - Pumpkin Spice Coffee, 6 oz (K-Cup)'}, {'nutritions': [{'name': 'Calories', 'value': '80'}, {'name': 'Carbs', 'value': '2'}, {'name': 'Fat', 'value': '6'}, {'name': 'Protein', 'value': '-2'}, {'name': 'Sodium', 'value': '40'}, {'name': 'Sugar', 'value': '2'}], 'name': 'Walmart - Half and Half -Pat M, 4 tablespoon'}], 'sequence': 4}]\n"
     ]
    }
   ],
   "source": [
    "user_id = data.iloc[1005,0]\n",
    "date = data.iloc[1005,1]\n",
    "food_entries = json.loads(data.iloc[1005, 2])\n",
    "agregate_intake_goal = json.loads(data.iloc[1005,3])\n",
    "print(food_entries)"
   ]
  },
  {
   "cell_type": "markdown",
   "metadata": {},
   "source": [
    "## Data parsing"
   ]
  },
  {
   "cell_type": "markdown",
   "metadata": {},
   "source": [
    "Let's start actual data parsing."
   ]
  },
  {
   "cell_type": "code",
   "execution_count": 16,
   "metadata": {},
   "outputs": [],
   "source": [
    "altered_data = {}"
   ]
  },
  {
   "cell_type": "markdown",
   "metadata": {},
   "source": [
    "#### Helper functions"
   ]
  },
  {
   "cell_type": "markdown",
   "metadata": {},
   "source": [
    "Block of code below is responsible for simple initialization of nutrients."
   ]
  },
  {
   "cell_type": "code",
   "execution_count": 17,
   "metadata": {},
   "outputs": [],
   "source": [
    "def init_nutrients(user):\n",
    "    user[\"calories\"] = {}\n",
    "    user[\"carbs\"] = {}\n",
    "    user[\"sugar\"] = {}\n",
    "    user[\"fat\"] = {}\n",
    "    user[\"protein\"] = {}\n",
    "    user[\"goal_calories\"] = {}\n",
    "    user[\"goal_carbs\"] = {}\n",
    "    user[\"goal_sugar\"] = {}\n",
    "    user[\"goal_fat\"] = {}\n",
    "    user[\"goal_protein\"] = {}"
   ]
  },
  {
   "cell_type": "markdown",
   "metadata": {},
   "source": [
    "Function below adds daily nutrient information to the given user. Also, it's important to point out, that we don't consider an entry valid if there is no information about daily calories in it, because such entry shoulf contain nothing. This is done by returning False instead of True."
   ]
  },
  {
   "cell_type": "code",
   "execution_count": 18,
   "metadata": {},
   "outputs": [],
   "source": [
    "def add_nutrients(user, agregate_intake_goal, date):\n",
    "    calories_filled = False\n",
    "    goal_calories_filled = False\n",
    "    for i in range(len(agregate_intake_goal[\"total\"])):\n",
    "        if agregate_intake_goal[\"total\"][i][\"name\"] == \"Calories\":\n",
    "            calories_filled = True\n",
    "    for i in range(len(agregate_intake_goal[\"goal\"])):\n",
    "            if agregate_intake_goal[\"goal\"][i][\"name\"] == \"Calories\":\n",
    "                goal_calories_filled = True\n",
    "\n",
    "    if calories_filled and goal_calories_filled:\n",
    "        for i in range(len(agregate_intake_goal[\"total\"])):\n",
    "            if agregate_intake_goal[\"total\"][i][\"name\"] == \"Calories\":\n",
    "                user[\"calories\"][date] = agregate_intake_goal[\"total\"][i][\"value\"]\n",
    "            if agregate_intake_goal[\"total\"][i][\"name\"] == \"Carbs\":\n",
    "                user[\"carbs\"][date] = agregate_intake_goal[\"total\"][i][\"value\"]\n",
    "            if agregate_intake_goal[\"total\"][i][\"name\"] == \"Sugar\":\n",
    "                user[\"sugar\"][date] = agregate_intake_goal[\"total\"][i][\"value\"]\n",
    "            if agregate_intake_goal[\"total\"][i][\"name\"] == \"Fat\":\n",
    "                user[\"fat\"][date] = agregate_intake_goal[\"total\"][i][\"value\"]\n",
    "            if agregate_intake_goal[\"total\"][i][\"name\"] == \"Protein\":\n",
    "                user[\"protein\"][date] = agregate_intake_goal[\"total\"][i][\"value\"]\n",
    "\n",
    "        for i in range(len(agregate_intake_goal[\"goal\"])):\n",
    "            if agregate_intake_goal[\"goal\"][i][\"name\"] == \"Calories\":\n",
    "                user[\"goal_calories\"][date] = agregate_intake_goal[\"goal\"][i][\"value\"]\n",
    "            if agregate_intake_goal[\"goal\"][i][\"name\"] == \"Carbs\":\n",
    "                user[\"goal_carbs\"][date] = agregate_intake_goal[\"goal\"][i][\"value\"]\n",
    "            if agregate_intake_goal[\"goal\"][i][\"name\"] == \"Sugar\":\n",
    "                user[\"goal_sugar\"][date] = agregate_intake_goal[\"goal\"][i][\"value\"]\n",
    "            if agregate_intake_goal[\"goal\"][i][\"name\"] == \"Fat\":\n",
    "                user[\"goal_fat\"][date] = agregate_intake_goal[\"goal\"][i][\"value\"]\n",
    "            if agregate_intake_goal[\"goal\"][i][\"name\"] == \"Protein\":\n",
    "                user[\"goal_protein\"][date] = agregate_intake_goal[\"goal\"][i][\"value\"]\n",
    "        return True\n",
    "    else:\n",
    "        return False"
   ]
  },
  {
   "cell_type": "markdown",
   "metadata": {},
   "source": [
    "Adds daily calories to the given month."
   ]
  },
  {
   "cell_type": "code",
   "execution_count": 19,
   "metadata": {},
   "outputs": [],
   "source": [
    "def add_calories_to_month(month, agregate_intake_goal, user):\n",
    "    for i in range(len(agregate_intake_goal[\"total\"])):\n",
    "        if agregate_intake_goal[\"total\"][i][\"name\"] == \"Calories\":\n",
    "            user[month][\"calories\"] += agregate_intake_goal[\"total\"][i][\"value\"]\n",
    "    user[month][\"days\"] += 1"
   ]
  },
  {
   "cell_type": "markdown",
   "metadata": {},
   "source": [
    "Initialization of month dictionary."
   ]
  },
  {
   "cell_type": "code",
   "execution_count": 20,
   "metadata": {},
   "outputs": [],
   "source": [
    "def init_month(user, date, month):\n",
    "    user[month] = {}\n",
    "    user[month][\"date\"] = date[5:7] + \"/\" + date[0:4]\n",
    "    user[month][\"days\"] = 0\n",
    "    user[month][\"calories\"] = 0"
   ]
  },
  {
   "cell_type": "markdown",
   "metadata": {},
   "source": [
    "Iteration over the whole data and parsing"
   ]
  },
  {
   "cell_type": "code",
   "execution_count": 21,
   "metadata": {
    "tags": []
   },
   "outputs": [],
   "source": [
    "for i in range(int(len(data))):\n",
    "    # read i-th row\n",
    "    user_id = data.iloc[i,0]\n",
    "    date = data.iloc[i,1]\n",
    "    food_entries = json.loads(data.iloc[i, 2])\n",
    "    agregate_intake_goal = json.loads(data.iloc[i,3])\n",
    "\n",
    "    if user_id not in altered_data:\n",
    "        altered_data[user_id] = {}\n",
    "        altered_data[user_id][\"first_entry_date\"] = date\n",
    "        altered_data[user_id][\"active_days\"] = 0\n",
    "        altered_data[user_id][\"food\"] = {}\n",
    "        altered_data[user_id][\"food_count\"] = 0\n",
    "        init_nutrients(altered_data[user_id])\n",
    "        init_month(altered_data[user_id], date, \"first_month\")\n",
    "        init_month(altered_data[user_id], date, \"last_month\")\n",
    "\n",
    "    if add_nutrients(altered_data[user_id], agregate_intake_goal, date):\n",
    "        altered_data[user_id][\"last_entry_date\"] = date\n",
    "        altered_data[user_id][\"active_days\"] += 1\n",
    "    else:\n",
    "        continue\n",
    "\n",
    "    if altered_data[user_id][\"first_month\"][\"date\"] == date[5:7] + \"/\" + date[0:4]:\n",
    "        add_calories_to_month(\"first_month\", agregate_intake_goal, altered_data[user_id])\n",
    "    else:\n",
    "        if altered_data[user_id][\"last_month\"][\"date\"] != date[5:7] + \"/\" + date[0:4]:\n",
    "            init_month(altered_data[user_id], date, \"last_month\")\n",
    "        add_calories_to_month(\"last_month\", agregate_intake_goal, altered_data[user_id])\n",
    "\n",
    "    for meal in food_entries:\n",
    "        for dish in meal[\"dishes\"]:\n",
    "            food_name = dish[\"name\"][0:dish[\"name\"].index(',')]\n",
    "            if food_name != \"Quick Added Calories\":\n",
    "                if food_name not in altered_data[user_id][\"food\"]:\n",
    "                    altered_data[user_id][\"food\"][food_name] = {}\n",
    "                    altered_data[user_id][\"food\"][food_name][\"count\"] = 0  \n",
    "                    altered_data[user_id][\"food\"][food_name][\"nutrients\"] = dish[\"nutritions\"]\n",
    "                altered_data[user_id][\"food\"][food_name][\"count\"] += 1\n",
    "                altered_data[user_id][\"food_count\"] += 1"
   ]
  },
  {
   "cell_type": "markdown",
   "metadata": {},
   "source": [
    "## Sample data visualization"
   ]
  },
  {
   "cell_type": "markdown",
   "metadata": {},
   "source": [
    "Take sample user for closer look and visualization (user #2 - consistent data, #5 - sugars instead of carbs, #8 - no carbon, no sugar, no fat, #689 - number of calories and goal calories entries do not match). We chose to have sample user for observation purposes. By observing on sample users, it might help us decide what variables to construct for each user later on."
   ]
  },
  {
   "cell_type": "code",
   "execution_count": 22,
   "metadata": {},
   "outputs": [],
   "source": [
    "sample_user = altered_data[2]\n",
    "food = sample_user[\"food\"]"
   ]
  },
  {
   "cell_type": "markdown",
   "metadata": {},
   "source": [
    "For the given user, sets a new value describing the amount\n",
    "of days from first data entry to (including) the last one. We considered user's active period based on his first and last input date individually (not based on general first/last in out data). "
   ]
  },
  {
   "cell_type": "code",
   "execution_count": 23,
   "metadata": {},
   "outputs": [],
   "source": [
    "def calculate_days(user):\n",
    "    first_year = int(user[\"first_entry_date\"][:4])\n",
    "    first_month = int(user[\"first_entry_date\"][5:7])\n",
    "    first_day = int(user[\"first_entry_date\"][8:])\n",
    "    last_year = int(user[\"last_entry_date\"][:4])\n",
    "    last_month = int(user[\"last_entry_date\"][5:7])\n",
    "    last_day = int(user[\"last_entry_date\"][8:])\n",
    "    f_date = datetime(first_year, first_month, first_day)\n",
    "    l_date = datetime(last_year, last_month, last_day)\n",
    "    delta = l_date - f_date\n",
    "    user[\"days\"] = delta.days + 1"
   ]
  },
  {
   "cell_type": "markdown",
   "metadata": {},
   "source": [
    "**User activity: active days from all days since first app usage**"
   ]
  },
  {
   "cell_type": "code",
   "execution_count": 24,
   "metadata": {},
   "outputs": [
    {
     "name": "stdout",
     "output_type": "stream",
     "text": [
      "User activity 60 / 60\n"
     ]
    }
   ],
   "source": [
    "calculate_days(sample_user)\n",
    "print(\"User activity\", sample_user[\"active_days\"], \"/\", sample_user[\"days\"])"
   ]
  },
  {
   "cell_type": "markdown",
   "metadata": {},
   "source": [
    "Function for sorting food according to it's consumption frequency."
   ]
  },
  {
   "cell_type": "code",
   "execution_count": 25,
   "metadata": {},
   "outputs": [
    {
     "name": "stdout",
     "output_type": "stream",
     "text": [
      "Total users: 9896\n"
     ]
    }
   ],
   "source": [
    "def food_sort(key):\n",
    "    return -food[key][\"count\"]\n",
    "# Total amount of users\n",
    "print(\"Total users:\", len(altered_data.keys()))"
   ]
  },
  {
   "cell_type": "markdown",
   "metadata": {},
   "source": [
    "Print top ten frequently consumed dishes:"
   ]
  },
  {
   "cell_type": "code",
   "execution_count": 26,
   "metadata": {},
   "outputs": [
    {
     "name": "stdout",
     "output_type": "stream",
     "text": [
      "Top ten frequent dishes\n",
      "\tNescafe - Decaf Coffee With Skimmed Milk\n",
      "\tSugars - Granulated (sucrose)\n",
      "\tWarburton's - Wholemeal Bread 800g\n",
      "\tGeneric - Wholemeal Bread-One Slice\n",
      "\tNescafe - Double Choca Mocha Uk\n",
      "\tQuorn - Chicken Style Fillet\n",
      "\tMarmite - Marmite\n",
      "\tBisto Best - Caramelised Onion Gravy\n",
      "\tQuorn - Nugget\n",
      "\tWalkers - Cheese and Onion Crisp\n"
     ]
    }
   ],
   "source": [
    "food_list = [key for key in food.keys()]\n",
    "food_list.sort(key=food_sort)\n",
    "print(\"Top ten frequent dishes\")\n",
    "for i in range(10):\n",
    "    print(\"\\t\" + food_list[i])"
   ]
  },
  {
   "cell_type": "markdown",
   "metadata": {},
   "source": [
    "Formats date vertically so that it can be more compact and easier to read."
   ]
  },
  {
   "cell_type": "code",
   "execution_count": 27,
   "metadata": {},
   "outputs": [],
   "source": [
    "def vertical_date(date):\n",
    "    return date[8:] + '\\n' + date[5:7] + '\\n' + date[2:4]"
   ]
  },
  {
   "cell_type": "markdown",
   "metadata": {},
   "source": [
    "Formatter function for pie chart magnitudes:"
   ]
  },
  {
   "cell_type": "code",
   "execution_count": 28,
   "metadata": {},
   "outputs": [],
   "source": [
    "def filter_value(val):\n",
    "    if (val < 5):\n",
    "        return \"\"\n",
    "    return '{:.2f}%\\n({:.0f})'.format(val, sample_user[\"food_count\"] * val / 100)"
   ]
  },
  {
   "cell_type": "markdown",
   "metadata": {},
   "source": [
    "Plots given nutrient (or calories) distribution throughout app usage."
   ]
  },
  {
   "cell_type": "code",
   "execution_count": 29,
   "metadata": {},
   "outputs": [],
   "source": [
    "def plot_nutrients(nutrient, name):\n",
    "    f = plt.figure() \n",
    "    f.set_figwidth(20)\n",
    "    f.set_figheight(6)\n",
    "    plt.plot([vertical_date(key) for key in sample_user[nutrient].keys()], [value for value in sample_user[nutrient].values()], marker='o')\n",
    "    plt.plot([vertical_date(key) for key in sample_user[\"goal_\" + nutrient].keys()], [value for value in sample_user[\"goal_\" + nutrient].values()], marker='o')\n",
    "    plt.title(\"Taken \" + nutrient + \" vs goal \" + nutrient)\n",
    "    plt.xlabel(\"Days\")\n",
    "    plt.ylabel(name)\n",
    "    plt.legend([\"Taken\", \"Goal\"])\n",
    "    plt.show()"
   ]
  },
  {
   "cell_type": "markdown",
   "metadata": {},
   "source": [
    "Label creation for food pie chart:"
   ]
  },
  {
   "cell_type": "code",
   "execution_count": 30,
   "metadata": {},
   "outputs": [
    {
     "data": {
      "image/png": "[encoded data removed]",
      "text/plain": [
       "<Figure size 432x288 with 1 Axes>"
      ]
     },
     "metadata": {},
     "output_type": "display_data"
    }
   ],
   "source": [
    "labels = []\n",
    "for key in food.keys():\n",
    "    if food[key][\"count\"] / sample_user[\"food_count\"] < 0.05:\n",
    "        labels.append(\"\")\n",
    "    else:\n",
    "        labels.append(key)\n",
    "\n",
    "magnitudes = [food[key][\"count\"] for key in food.keys()]\n",
    "# Food frequency consumption pie chart\n",
    "fig1, ax1 = plt.subplots()\n",
    "ax1.pie(magnitudes, labels=labels, autopct=filter_value, startangle=90)\n",
    "ax1.axis('equal')  # Equal aspect ratio ensures that pie is drawn as a circle.\n",
    "plt.title(\"Monthly analysis of food and beverage consumption [in percents] \\n(only shown items above 5%)\")\n",
    "plt.show()"
   ]
  },
  {
   "cell_type": "markdown",
   "metadata": {},
   "source": [
    "The reason why this pie chart is so chaotic is that the user's choice of dishes is diverse, but it still likes to frequently drink cofee with skimmed milk and sugar."
   ]
  },
  {
   "cell_type": "markdown",
   "metadata": {},
   "source": [
    "**Nutrient and calories distribution plots**"
   ]
  },
  {
   "cell_type": "code",
   "execution_count": 31,
   "metadata": {},
   "outputs": [
    {
     "name": "stdout",
     "output_type": "stream",
     "text": [
      "Average calories per day: 1457.1666666666667\n"
     ]
    },
    {
     "data": {
      "image/png": "[encoded data removed]",
      "text/plain": [
       "<Figure size 1440x432 with 1 Axes>"
      ]
     },
     "metadata": {
      "needs_background": "light"
     },
     "output_type": "display_data"
    }
   ],
   "source": [
    "print(\"Average calories per day:\", stats.mean(sample_user[\"calories\"].values()))\n",
    "plot_nutrients(\"calories\", \"Calories\")"
   ]
  },
  {
   "cell_type": "markdown",
   "metadata": {},
   "source": [
    "We think that this is a good opportunity for visualization because for naked eye it's very easy to see user's goal compared to his/her actual taken calories."
   ]
  },
  {
   "cell_type": "code",
   "execution_count": 32,
   "metadata": {},
   "outputs": [
    {
     "name": "stdout",
     "output_type": "stream",
     "text": [
      "Average carbs per day: 181.2\n"
     ]
    },
    {
     "data": {
      "image/png": "[encoded data removed]",
      "text/plain": [
       "<Figure size 1440x432 with 1 Axes>"
      ]
     },
     "metadata": {
      "needs_background": "light"
     },
     "output_type": "display_data"
    },
    {
     "name": "stdout",
     "output_type": "stream",
     "text": [
      "Average fat per day: 42.28333333333333\n"
     ]
    },
    {
     "data": {
      "image/png": "[encoded data removed]",
      "text/plain": [
       "<Figure size 1440x432 with 1 Axes>"
      ]
     },
     "metadata": {
      "needs_background": "light"
     },
     "output_type": "display_data"
    },
    {
     "name": "stdout",
     "output_type": "stream",
     "text": [
      "Average protein per day: 42.5\n"
     ]
    },
    {
     "data": {
      "image/png": "[encoded data removed]",
      "text/plain": [
       "<Figure size 1440x432 with 1 Axes>"
      ]
     },
     "metadata": {
      "needs_background": "light"
     },
     "output_type": "display_data"
    }
   ],
   "source": [
    "if len(sample_user[\"carbs\"]) == 0:\n",
    "    if len(sample_user[\"sugar\"]) == 0:\n",
    "        print(\"Average carbs per day: 0\")\n",
    "    else:\n",
    "        print(\"Average carbs per day:\", stats.mean(sample_user[\"sugar\"].values()))\n",
    "    plot_nutrients(\"sugar\", \"Sugar\")\n",
    "else:\n",
    "    print(\"Average carbs per day:\", stats.mean(sample_user[\"carbs\"].values()))\n",
    "    plot_nutrients(\"carbs\", \"Carbs\")\n",
    "\n",
    "if len(sample_user[\"fat\"]) == 0:\n",
    "    print(\"Average fat per day: 0\")\n",
    "else:\n",
    "    print(\"Average fat per day:\", stats.mean(sample_user[\"fat\"].values()))\n",
    "plot_nutrients(\"fat\", \"Fat\")\n",
    "\n",
    "if len(sample_user[\"fat\"]) == 0:\n",
    "    print(\"Average protein per day: 0\")\n",
    "else:\n",
    "    print(\"Average protein per day:\", stats.mean(sample_user[\"protein\"].values()))\n",
    "\n",
    "plot_nutrients(\"protein\", \"Protein\")\n"
   ]
  },
  {
   "cell_type": "code",
   "execution_count": 33,
   "metadata": {},
   "outputs": [
    {
     "name": "stdout",
     "output_type": "stream",
     "text": [
      "First month and cumulative consumed calories: {'date': '01/2015', 'days': 20, 'calories': 27445}\n",
      "Last month and cumulative consumed calories: {'date': '03/2015', 'days': 12, 'calories': 16641}\n"
     ]
    }
   ],
   "source": [
    "print(\"First month and cumulative consumed calories:\", sample_user[\"first_month\"])\n",
    "print(\"Last month and cumulative consumed calories:\", sample_user[\"last_month\"])"
   ]
  },
  {
   "cell_type": "markdown",
   "metadata": {},
   "source": [
    "## Insert prepared data to a pandas dataframe for further ML analysis"
   ]
  },
  {
   "cell_type": "code",
   "execution_count": 77,
   "metadata": {},
   "outputs": [],
   "source": [
    "final_dict = {}\n",
    "final_dict[\"user_activity\"] = []\n",
    "final_dict[\"average_calories_per_day\"] = []\n",
    "final_dict[\"average_carbs_per_day\"] = []\n",
    "final_dict[\"average_fat_per_day\"] = []\n",
    "final_dict[\"average_protein_per_day\"] = []"
   ]
  },
  {
   "cell_type": "markdown",
   "metadata": {},
   "source": [
    "Only taking what portion of food's energetic value these macronutrients make \n",
    "describes user's favourite food's nature more and is not likely to cause\n",
    "unnecessary differentiation between users\n",
    "In my opinion, this may be a problem when taking raw nutrients instead. Also, we thought that to compare we won't use weight metrics, because it might be a little bit (or not more) inaccurate. Instead we will use percentages to compare."
   ]
  },
  {
   "cell_type": "code",
   "execution_count": 78,
   "metadata": {},
   "outputs": [],
   "source": [
    "final_dict[\"favourite_food_carbs_part\"] = []\n",
    "final_dict[\"favourite_food_fat_part\"] = []\n",
    "final_dict[\"favourite_food_protein_part\"] = []"
   ]
  },
  {
   "cell_type": "markdown",
   "metadata": {},
   "source": [
    "goal_taken_calories_error: Taking taken and goal error of other nutrients may be better than including favourite food, but we'll try this for now. This will help us to track how user actually pursues his/her goals.\n",
    "\n",
    "overal_calories_consumption_change: user's last active month average divided by first active month average. In some cases this might be a little bit misleading (for example, if in either month's activity was only several days; But we thought that it was best option)."
   ]
  },
  {
   "cell_type": "code",
   "execution_count": 79,
   "metadata": {},
   "outputs": [],
   "source": [
    "# Taking taken and goal error of other nutrients may be better than\n",
    "# including favourite food, but we'll try this for now\n",
    "final_dict[\"goal_taken_calories_error\"] = []\n",
    "final_dict[\"overal_calories_consumption_change\"] = []"
   ]
  },
  {
   "cell_type": "code",
   "execution_count": 80,
   "metadata": {},
   "outputs": [],
   "source": [
    "def mean_root_squared_error(list_a, list_b):\n",
    "    summation = 0\n",
    "    n = len(list_a)\n",
    "    for i in range (0, n):\n",
    "      difference = list_a[i] - list_b[i]\n",
    "      squared_difference = difference**2\n",
    "      summation = summation + squared_difference\n",
    "    return np.sqrt(summation/n)"
   ]
  },
  {
   "cell_type": "code",
   "execution_count": 81,
   "metadata": {},
   "outputs": [
    {
     "data": {
      "text/html": [
       "<div>\n",
       "<style scoped>\n",
       "    .dataframe tbody tr th:only-of-type {\n",
       "        vertical-align: middle;\n",
       "    }\n",
       "\n",
       "    .dataframe tbody tr th {\n",
       "        vertical-align: top;\n",
       "    }\n",
       "\n",
       "    .dataframe thead th {\n",
       "        text-align: right;\n",
       "    }\n",
       "</style>\n",
       "<table border=\"1\" class=\"dataframe\">\n",
       "  <thead>\n",
       "    <tr style=\"text-align: right;\">\n",
       "      <th></th>\n",
       "      <th>user_activity</th>\n",
       "      <th>average_calories_per_day</th>\n",
       "      <th>average_carbs_per_day</th>\n",
       "      <th>average_fat_per_day</th>\n",
       "      <th>average_protein_per_day</th>\n",
       "      <th>favourite_food_carbs_part</th>\n",
       "      <th>favourite_food_fat_part</th>\n",
       "      <th>favourite_food_protein_part</th>\n",
       "      <th>goal_taken_calories_error</th>\n",
       "      <th>overal_calories_consumption_change</th>\n",
       "    </tr>\n",
       "  </thead>\n",
       "  <tbody>\n",
       "    <tr>\n",
       "      <th>0</th>\n",
       "      <td>0.966667</td>\n",
       "      <td>2308.908046</td>\n",
       "      <td>185.431034</td>\n",
       "      <td>77.942529</td>\n",
       "      <td>128.781609</td>\n",
       "      <td>0.391892</td>\n",
       "      <td>0.324324</td>\n",
       "      <td>0.283784</td>\n",
       "      <td>552.482626</td>\n",
       "      <td>1.119999</td>\n",
       "    </tr>\n",
       "    <tr>\n",
       "      <th>1</th>\n",
       "      <td>1.000000</td>\n",
       "      <td>1457.166667</td>\n",
       "      <td>181.200000</td>\n",
       "      <td>42.283333</td>\n",
       "      <td>42.500000</td>\n",
       "      <td>0.607143</td>\n",
       "      <td>0.035714</td>\n",
       "      <td>0.357143</td>\n",
       "      <td>462.270177</td>\n",
       "      <td>1.010567</td>\n",
       "    </tr>\n",
       "    <tr>\n",
       "      <th>2</th>\n",
       "      <td>1.000000</td>\n",
       "      <td>2997.938547</td>\n",
       "      <td>121.268156</td>\n",
       "      <td>77.195531</td>\n",
       "      <td>188.379888</td>\n",
       "      <td>0.478261</td>\n",
       "      <td>0.130435</td>\n",
       "      <td>0.391304</td>\n",
       "      <td>538.892725</td>\n",
       "      <td>0.930052</td>\n",
       "    </tr>\n",
       "    <tr>\n",
       "      <th>3</th>\n",
       "      <td>0.646067</td>\n",
       "      <td>1357.026087</td>\n",
       "      <td>141.295652</td>\n",
       "      <td>54.495652</td>\n",
       "      <td>67.347826</td>\n",
       "      <td>0.000000</td>\n",
       "      <td>0.000000</td>\n",
       "      <td>1.000000</td>\n",
       "      <td>471.969343</td>\n",
       "      <td>1.345699</td>\n",
       "    </tr>\n",
       "    <tr>\n",
       "      <th>4</th>\n",
       "      <td>0.480226</td>\n",
       "      <td>1975.200000</td>\n",
       "      <td>0.000000</td>\n",
       "      <td>0.000000</td>\n",
       "      <td>128.600000</td>\n",
       "      <td>0.000000</td>\n",
       "      <td>0.000000</td>\n",
       "      <td>1.000000</td>\n",
       "      <td>411.301478</td>\n",
       "      <td>0.426522</td>\n",
       "    </tr>\n",
       "  </tbody>\n",
       "</table>\n",
       "</div>"
      ],
      "text/plain": [
       "   user_activity  average_calories_per_day  average_carbs_per_day  \\\n",
       "0       0.966667               2308.908046             185.431034   \n",
       "1       1.000000               1457.166667             181.200000   \n",
       "2       1.000000               2997.938547             121.268156   \n",
       "3       0.646067               1357.026087             141.295652   \n",
       "4       0.480226               1975.200000               0.000000   \n",
       "\n",
       "   average_fat_per_day  average_protein_per_day  favourite_food_carbs_part  \\\n",
       "0            77.942529               128.781609                   0.391892   \n",
       "1            42.283333                42.500000                   0.607143   \n",
       "2            77.195531               188.379888                   0.478261   \n",
       "3            54.495652                67.347826                   0.000000   \n",
       "4             0.000000               128.600000                   0.000000   \n",
       "\n",
       "   favourite_food_fat_part  favourite_food_protein_part  \\\n",
       "0                 0.324324                     0.283784   \n",
       "1                 0.035714                     0.357143   \n",
       "2                 0.130435                     0.391304   \n",
       "3                 0.000000                     1.000000   \n",
       "4                 0.000000                     1.000000   \n",
       "\n",
       "   goal_taken_calories_error  overal_calories_consumption_change  \n",
       "0                 552.482626                            1.119999  \n",
       "1                 462.270177                            1.010567  \n",
       "2                 538.892725                            0.930052  \n",
       "3                 471.969343                            1.345699  \n",
       "4                 411.301478                            0.426522  "
      ]
     },
     "execution_count": 81,
     "metadata": {},
     "output_type": "execute_result"
    }
   ],
   "source": [
    "keys = [key for key in altered_data.keys()]\n",
    "for i in range(len(keys)):\n",
    "    current_user = altered_data[keys[i]]\n",
    "\n",
    "    # Dismissing users with at most month-long activity\n",
    "    if current_user[\"active_days\"] < 30 or current_user[\"first_month\"][\"date\"] == current_user[\"last_month\"][\"date\"]:\n",
    "        continue\n",
    "    food = current_user[\"food\"]\n",
    "\n",
    "    calculate_days(current_user)\n",
    "    final_dict[\"user_activity\"].append(current_user[\"active_days\"] / current_user[\"days\"])\n",
    "\n",
    "\n",
    "    final_dict[\"average_calories_per_day\"].append(stats.mean(current_user[\"calories\"].values()))\n",
    "    if len(current_user[\"carbs\"]) == 0 and len(current_user[\"sugar\"]) != 0:\n",
    "        final_dict[\"average_carbs_per_day\"].append(stats.mean(current_user[\"sugar\"].values()))\n",
    "    else:\n",
    "        if len(current_user[\"carbs\"]) == 0:\n",
    "            final_dict[\"average_carbs_per_day\"].append(0)\n",
    "        else:\n",
    "            final_dict[\"average_carbs_per_day\"].append(stats.mean(current_user[\"carbs\"].values()))\n",
    "    \n",
    "    if len(current_user[\"fat\"]) == 0:\n",
    "        final_dict[\"average_fat_per_day\"].append(0)\n",
    "    else:\n",
    "        final_dict[\"average_fat_per_day\"].append(stats.mean(current_user[\"fat\"].values()))\n",
    "    \n",
    "    if len(current_user[\"protein\"]) == 0:\n",
    "        final_dict[\"average_protein_per_day\"].append(0)\n",
    "    else:\n",
    "        final_dict[\"average_protein_per_day\"].append(stats.mean(current_user[\"protein\"].values()))\n",
    "\n",
    "    fav_food = [key for key in food.keys()]\n",
    "    fav_food.sort(key=food_sort)\n",
    "    fav_food = food[fav_food[0]]\n",
    "    fav_carbs = None\n",
    "    fav_sugar = None\n",
    "    fav_fat = None\n",
    "    fav_proteins = None\n",
    "    for nutrient in fav_food[\"nutrients\"]:\n",
    "        if nutrient[\"name\"] == \"Carbs\":\n",
    "            fav_carbs = int(nutrient[\"value\"])\n",
    "        if nutrient[\"name\"] == \"Sugar\":\n",
    "            fav_sugar = int(nutrient[\"value\"])\n",
    "        if nutrient[\"name\"] == \"Fat\":\n",
    "            fav_fat = int(nutrient[\"value\"])\n",
    "        if nutrient[\"name\"] == \"Protein\":\n",
    "            fav_proteins = int(nutrient[\"value\"])\n",
    "    if fav_carbs == None:\n",
    "        if fav_sugar != None:\n",
    "            fav_carbs = fav_sugar\n",
    "        else:\n",
    "            fav_carbs = 0\n",
    "    if fav_fat == None:\n",
    "        fav_fat = 0\n",
    "    if fav_proteins == None:\n",
    "        fav_proteins = 0\n",
    "    fav_sum = fav_carbs + fav_fat + fav_proteins\n",
    "    if fav_sum == 0:\n",
    "        fav_sum = 1\n",
    "    final_dict[\"favourite_food_carbs_part\"].append(fav_carbs / fav_sum)\n",
    "    final_dict[\"favourite_food_fat_part\"].append(fav_fat / fav_sum)\n",
    "    final_dict[\"favourite_food_protein_part\"].append(fav_proteins / fav_sum)\n",
    "\n",
    "    calories = [value for value in current_user[\"calories\"].values()]\n",
    "    goal_calories = [value for value in current_user[\"goal_calories\"].values()]\n",
    "    # We're taking root mean squared error instead of just mean squared error, as root will be less strict\n",
    "    # in differentiating data and we will get a more uniform distribution. This will help us avoid unnecesary\n",
    "    # grouping of mixed data when clustering.\n",
    "    \n",
    "    np.seterr(all='raise')\n",
    "    \n",
    "    try:\n",
    "        final_dict[\"goal_taken_calories_error\"].append(mean_root_squared_error(goal_calories, calories))\n",
    "    except FloatingPointError:\n",
    "        print(len(goal_calories), goal_calories)\n",
    "        print(len(calories), calories)\n",
    "        print(\"<--\", mean_squared_error(goal_calories, calories, squared=True))\n",
    "        print(mean_squared_error(goal_calories, calories, squared=False))\n",
    "        print(final_dict[\"goal_taken_calories_error\"][len(final_dict[\"goal_taken_calories_error\"]) - 1], \"-->\")\n",
    "\n",
    "    first_avg_cal = current_user[\"first_month\"][\"calories\"] / current_user[\"first_month\"][\"days\"]\n",
    "    last_avg_cal = current_user[\"last_month\"][\"calories\"] / current_user[\"last_month\"][\"days\"]\n",
    "    final_dict[\"overal_calories_consumption_change\"].append(last_avg_cal / first_avg_cal)\n",
    "\n",
    "final_data = pd.DataFrame(final_dict)\n",
    "final_data.head()"
   ]
  },
  {
   "cell_type": "markdown",
   "metadata": {},
   "source": [
    "**Correlation matrix**"
   ]
  },
  {
   "cell_type": "code",
   "execution_count": 82,
   "metadata": {},
   "outputs": [
    {
     "data": {
      "image/png": "[encoded data removed]",
      "text/plain": [
       "<Figure size 864x432 with 1 Axes>"
      ]
     },
     "metadata": {
      "needs_background": "light"
     },
     "output_type": "display_data"
    }
   ],
   "source": [
    "corr_matrix = final_data.corr()\n",
    "f, ax = plt.subplots(figsize=(12, 6))\n",
    "with sb.axes_style(\"white\"):\n",
    "    sb.heatmap(corr_matrix,mask=np.triu(corr_matrix,1),annot=True,fmt=\".2f\", vmax=.8,cbar=False,cmap=\"coolwarm\");"
   ]
  },
  {
   "cell_type": "markdown",
   "metadata": {},
   "source": [
    "# Clustering"
   ]
  },
  {
   "cell_type": "markdown",
   "metadata": {},
   "source": [
    "**Scaling**"
   ]
  },
  {
   "cell_type": "markdown",
   "metadata": {},
   "source": [
    "Scaling data using sklearn library"
   ]
  },
  {
   "cell_type": "code",
   "execution_count": 83,
   "metadata": {},
   "outputs": [
    {
     "data": {
      "text/html": [
       "<div>\n",
       "<style scoped>\n",
       "    .dataframe tbody tr th:only-of-type {\n",
       "        vertical-align: middle;\n",
       "    }\n",
       "\n",
       "    .dataframe tbody tr th {\n",
       "        vertical-align: top;\n",
       "    }\n",
       "\n",
       "    .dataframe thead th {\n",
       "        text-align: right;\n",
       "    }\n",
       "</style>\n",
       "<table border=\"1\" class=\"dataframe\">\n",
       "  <thead>\n",
       "    <tr style=\"text-align: right;\">\n",
       "      <th></th>\n",
       "      <th>0</th>\n",
       "      <th>1</th>\n",
       "      <th>2</th>\n",
       "      <th>3</th>\n",
       "      <th>4</th>\n",
       "      <th>5</th>\n",
       "      <th>6</th>\n",
       "      <th>7</th>\n",
       "      <th>8</th>\n",
       "      <th>9</th>\n",
       "    </tr>\n",
       "  </thead>\n",
       "  <tbody>\n",
       "    <tr>\n",
       "      <th>count</th>\n",
       "      <td>5.823000e+03</td>\n",
       "      <td>5.823000e+03</td>\n",
       "      <td>5.823000e+03</td>\n",
       "      <td>5.823000e+03</td>\n",
       "      <td>5.823000e+03</td>\n",
       "      <td>5.823000e+03</td>\n",
       "      <td>5.823000e+03</td>\n",
       "      <td>5.823000e+03</td>\n",
       "      <td>5.823000e+03</td>\n",
       "      <td>5.823000e+03</td>\n",
       "    </tr>\n",
       "    <tr>\n",
       "      <th>mean</th>\n",
       "      <td>9.696100e-17</td>\n",
       "      <td>4.009615e-17</td>\n",
       "      <td>5.775143e-17</td>\n",
       "      <td>-9.662734e-17</td>\n",
       "      <td>7.119308e-17</td>\n",
       "      <td>-4.964830e-17</td>\n",
       "      <td>2.394330e-16</td>\n",
       "      <td>-9.498765e-17</td>\n",
       "      <td>-2.240752e-17</td>\n",
       "      <td>-2.508750e-17</td>\n",
       "    </tr>\n",
       "    <tr>\n",
       "      <th>std</th>\n",
       "      <td>1.000086e+00</td>\n",
       "      <td>1.000086e+00</td>\n",
       "      <td>1.000086e+00</td>\n",
       "      <td>1.000086e+00</td>\n",
       "      <td>1.000086e+00</td>\n",
       "      <td>1.000086e+00</td>\n",
       "      <td>1.000086e+00</td>\n",
       "      <td>1.000086e+00</td>\n",
       "      <td>1.000086e+00</td>\n",
       "      <td>1.000086e+00</td>\n",
       "    </tr>\n",
       "    <tr>\n",
       "      <th>min</th>\n",
       "      <td>-1.816097e+00</td>\n",
       "      <td>-2.447257e+00</td>\n",
       "      <td>-2.120053e+00</td>\n",
       "      <td>-1.644895e+00</td>\n",
       "      <td>-2.073509e+00</td>\n",
       "      <td>-1.066419e+00</td>\n",
       "      <td>-6.384333e-01</td>\n",
       "      <td>-8.275168e-01</td>\n",
       "      <td>-3.112783e-01</td>\n",
       "      <td>-5.621626e-02</td>\n",
       "    </tr>\n",
       "    <tr>\n",
       "      <th>25%</th>\n",
       "      <td>-8.962825e-01</td>\n",
       "      <td>-5.719936e-01</td>\n",
       "      <td>-5.134949e-01</td>\n",
       "      <td>-4.271939e-01</td>\n",
       "      <td>-5.759274e-01</td>\n",
       "      <td>-1.066419e+00</td>\n",
       "      <td>-6.384333e-01</td>\n",
       "      <td>-8.275168e-01</td>\n",
       "      <td>-1.224476e-01</td>\n",
       "      <td>-3.113962e-02</td>\n",
       "    </tr>\n",
       "    <tr>\n",
       "      <th>50%</th>\n",
       "      <td>-2.502189e-02</td>\n",
       "      <td>-1.222154e-01</td>\n",
       "      <td>-1.913380e-02</td>\n",
       "      <td>-7.849361e-02</td>\n",
       "      <td>-1.746288e-01</td>\n",
       "      <td>-6.402749e-02</td>\n",
       "      <td>-5.793906e-01</td>\n",
       "      <td>-4.158702e-01</td>\n",
       "      <td>-5.511275e-02</td>\n",
       "      <td>-2.507093e-02</td>\n",
       "    </tr>\n",
       "    <tr>\n",
       "      <th>75%</th>\n",
       "      <td>1.007386e+00</td>\n",
       "      <td>4.364276e-01</td>\n",
       "      <td>4.779793e-01</td>\n",
       "      <td>3.379710e-01</td>\n",
       "      <td>3.869235e-01</td>\n",
       "      <td>9.644002e-01</td>\n",
       "      <td>2.914896e-01</td>\n",
       "      <td>5.157511e-01</td>\n",
       "      <td>3.781638e-02</td>\n",
       "      <td>-1.805608e-02</td>\n",
       "    </tr>\n",
       "    <tr>\n",
       "      <th>max</th>\n",
       "      <td>1.368784e+00</td>\n",
       "      <td>2.864087e+01</td>\n",
       "      <td>3.725916e+01</td>\n",
       "      <td>4.993560e+01</td>\n",
       "      <td>2.328413e+01</td>\n",
       "      <td>1.511159e+00</td>\n",
       "      <td>3.081258e+00</td>\n",
       "      <td>2.362744e+00</td>\n",
       "      <td>5.886728e+01</td>\n",
       "      <td>7.408856e+01</td>\n",
       "    </tr>\n",
       "  </tbody>\n",
       "</table>\n",
       "</div>"
      ],
      "text/plain": [
       "                  0             1             2             3             4  \\\n",
       "count  5.823000e+03  5.823000e+03  5.823000e+03  5.823000e+03  5.823000e+03   \n",
       "mean   9.696100e-17  4.009615e-17  5.775143e-17 -9.662734e-17  7.119308e-17   \n",
       "std    1.000086e+00  1.000086e+00  1.000086e+00  1.000086e+00  1.000086e+00   \n",
       "min   -1.816097e+00 -2.447257e+00 -2.120053e+00 -1.644895e+00 -2.073509e+00   \n",
       "25%   -8.962825e-01 -5.719936e-01 -5.134949e-01 -4.271939e-01 -5.759274e-01   \n",
       "50%   -2.502189e-02 -1.222154e-01 -1.913380e-02 -7.849361e-02 -1.746288e-01   \n",
       "75%    1.007386e+00  4.364276e-01  4.779793e-01  3.379710e-01  3.869235e-01   \n",
       "max    1.368784e+00  2.864087e+01  3.725916e+01  4.993560e+01  2.328413e+01   \n",
       "\n",
       "                  5             6             7             8             9  \n",
       "count  5.823000e+03  5.823000e+03  5.823000e+03  5.823000e+03  5.823000e+03  \n",
       "mean  -4.964830e-17  2.394330e-16 -9.498765e-17 -2.240752e-17 -2.508750e-17  \n",
       "std    1.000086e+00  1.000086e+00  1.000086e+00  1.000086e+00  1.000086e+00  \n",
       "min   -1.066419e+00 -6.384333e-01 -8.275168e-01 -3.112783e-01 -5.621626e-02  \n",
       "25%   -1.066419e+00 -6.384333e-01 -8.275168e-01 -1.224476e-01 -3.113962e-02  \n",
       "50%   -6.402749e-02 -5.793906e-01 -4.158702e-01 -5.511275e-02 -2.507093e-02  \n",
       "75%    9.644002e-01  2.914896e-01  5.157511e-01  3.781638e-02 -1.805608e-02  \n",
       "max    1.511159e+00  3.081258e+00  2.362744e+00  5.886728e+01  7.408856e+01  "
      ]
     },
     "execution_count": 83,
     "metadata": {},
     "output_type": "execute_result"
    }
   ],
   "source": [
    "scaler = StandardScaler()\n",
    "scaled_data = scaler.fit_transform(final_data)\n",
    "pd.DataFrame(scaled_data).describe()"
   ]
  },
  {
   "cell_type": "markdown",
   "metadata": {},
   "source": [
    "Rational number of clusters should be between 2 to 10 by considering data's context interpretation possibilities as well as ease of handling afterwards "
   ]
  },
  {
   "cell_type": "markdown",
   "metadata": {},
   "source": [
    "**Inferring appropriate number of clusters using elbow method**"
   ]
  },
  {
   "cell_type": "markdown",
   "metadata": {},
   "source": [
    "Storing sum of squared errors for each iteration for 2 to 10 clusters"
   ]
  },
  {
   "cell_type": "code",
   "execution_count": 84,
   "metadata": {},
   "outputs": [],
   "source": [
    "sse = []\n",
    "for k in range(2, 11):\n",
    "    kmeans = KMeans(n_clusters = k, init = 'k-means++', n_init = 20, max_iter = 300, tol = 0.0001, \n",
    "                    random_state = None, copy_x = True, algorithm = 'full').fit(scaled_data)\n",
    "    sse.append(kmeans.inertia_)"
   ]
  },
  {
   "cell_type": "markdown",
   "metadata": {},
   "source": [
    "Plotting sums of squared errors"
   ]
  },
  {
   "cell_type": "code",
   "execution_count": 85,
   "metadata": {},
   "outputs": [
    {
     "data": {
      "image/png": "[encoded data removed]",
      "text/plain": [
       "<Figure size 432x288 with 1 Axes>"
      ]
     },
     "metadata": {},
     "output_type": "display_data"
    }
   ],
   "source": [
    "plt.style.use('fivethirtyeight')\n",
    "plt.plot(range(2, 11), sse)\n",
    "plt.xticks(range(2, 11))\n",
    "plt.xlabel(\"Number of Clusters\")\n",
    "plt.ylabel(\"SSE\")\n",
    "plt.show()"
   ]
  },
  {
   "cell_type": "markdown",
   "metadata": {},
   "source": [
    "Elbow doesn't make it very clear but, most of all, 6 seems to be the best number of clusters for our data"
   ]
  },
  {
   "cell_type": "markdown",
   "metadata": {},
   "source": [
    "**Inferring appropriate number of clusters according to silhouette coefficients**"
   ]
  },
  {
   "cell_type": "markdown",
   "metadata": {},
   "source": [
    "Storing silhouette coefficients for each iteration for 2 to 10 clusters"
   ]
  },
  {
   "cell_type": "code",
   "execution_count": 86,
   "metadata": {},
   "outputs": [],
   "source": [
    "silhouette_coefficients = []\n",
    "for k in range(2, 11):\n",
    "    kmeans = KMeans(n_clusters = k, init = 'k-means++', n_init = 20, max_iter = 300, tol = 0.0001, \n",
    "                    random_state = None, copy_x = True, algorithm = 'full').fit(scaled_data)\n",
    "    score = silhouette_score(scaled_data, kmeans.labels_)\n",
    "    silhouette_coefficients.append(score)"
   ]
  },
  {
   "cell_type": "markdown",
   "metadata": {},
   "source": [
    "Plotting silhouette coefficient distribution"
   ]
  },
  {
   "cell_type": "code",
   "execution_count": 87,
   "metadata": {},
   "outputs": [
    {
     "data": {
      "image/png": "[encoded data removed]",
      "text/plain": [
       "<Figure size 432x288 with 1 Axes>"
      ]
     },
     "metadata": {},
     "output_type": "display_data"
    }
   ],
   "source": [
    "plt.plot(range(2, 11), silhouette_coefficients)\n",
    "plt.xticks(range(2, 11))\n",
    "plt.xlabel(\"Number of Clusters\")\n",
    "plt.ylabel(\"Silhouette Coefficient\")\n",
    "plt.show()"
   ]
  },
  {
   "cell_type": "markdown",
   "metadata": {},
   "source": [
    "Silhouette coefficient method shows more comprehensible data and clearly 8 is the winner for number of clusters"
   ]
  },
  {
   "cell_type": "markdown",
   "metadata": {},
   "source": [
    "**Both results still somewhat agree, but we choose 8 as a more clear candidate for the number of clusters**"
   ]
  },
  {
   "cell_type": "markdown",
   "metadata": {},
   "source": [
    "## Final run of kmeans to store correct clusters"
   ]
  },
  {
   "cell_type": "code",
   "execution_count": 88,
   "metadata": {},
   "outputs": [],
   "source": [
    "kmeans = KMeans(n_clusters = 8, init = 'k-means++', n_init = 20, max_iter = 300, tol = 0.0001, \n",
    "                    random_state = None, copy_x = True, algorithm = 'full').fit(scaled_data)"
   ]
  },
  {
   "cell_type": "markdown",
   "metadata": {},
   "source": [
    "## Let's try shrinking data to 2 dimensions for possible better visual comprehension of clusters"
   ]
  },
  {
   "cell_type": "code",
   "execution_count": 89,
   "metadata": {},
   "outputs": [],
   "source": [
    "reduced_data = PCA(n_components=2).fit_transform(scaled_data)"
   ]
  },
  {
   "cell_type": "markdown",
   "metadata": {},
   "source": [
    "**Plotting dimension reduced data**"
   ]
  },
  {
   "cell_type": "code",
   "execution_count": 90,
   "metadata": {},
   "outputs": [
    {
     "data": {
      "image/png": "[encoded data removed]",
      "text/plain": [
       "<Figure size 432x288 with 1 Axes>"
      ]
     },
     "metadata": {},
     "output_type": "display_data"
    }
   ],
   "source": [
    "reduced_data_x = reduced_data[:, 0]\n",
    "reduced_data_y = reduced_data[:, 1]\n",
    "plt.scatter(reduced_data_x, reduced_data_y, marker='o', s=1, linewidths=1)\n",
    "plt.xlabel(\"Combined feature axis 1\")\n",
    "plt.ylabel(\"Combined feature axis 2\")\n",
    "plt.show()"
   ]
  },
  {
   "cell_type": "markdown",
   "metadata": {},
   "source": [
    "**Showing result clusters on reduced dimensions is not going to be useful as no distinguishable clusters are visible to naked eyes**"
   ]
  },
  {
   "cell_type": "markdown",
   "metadata": {},
   "source": [
    "## Analysing each cluster"
   ]
  },
  {
   "cell_type": "code",
   "execution_count": 91,
   "metadata": {},
   "outputs": [
    {
     "data": {
      "text/html": [
       "<div>\n",
       "<style scoped>\n",
       "    .dataframe tbody tr th:only-of-type {\n",
       "        vertical-align: middle;\n",
       "    }\n",
       "\n",
       "    .dataframe tbody tr th {\n",
       "        vertical-align: top;\n",
       "    }\n",
       "\n",
       "    .dataframe thead th {\n",
       "        text-align: right;\n",
       "    }\n",
       "</style>\n",
       "<table border=\"1\" class=\"dataframe\">\n",
       "  <thead>\n",
       "    <tr style=\"text-align: right;\">\n",
       "      <th></th>\n",
       "      <th>user_activity</th>\n",
       "      <th>average_calories_per_day</th>\n",
       "      <th>average_carbs_per_day</th>\n",
       "      <th>average_fat_per_day</th>\n",
       "      <th>average_protein_per_day</th>\n",
       "      <th>favourite_food_carbs_part</th>\n",
       "      <th>favourite_food_fat_part</th>\n",
       "      <th>favourite_food_protein_part</th>\n",
       "      <th>goal_taken_calories_error</th>\n",
       "      <th>overal_calories_consumption_change</th>\n",
       "      <th>cluster</th>\n",
       "    </tr>\n",
       "  </thead>\n",
       "  <tbody>\n",
       "    <tr>\n",
       "      <th>0</th>\n",
       "      <td>0.966667</td>\n",
       "      <td>2308.908046</td>\n",
       "      <td>185.431034</td>\n",
       "      <td>77.942529</td>\n",
       "      <td>128.781609</td>\n",
       "      <td>0.391892</td>\n",
       "      <td>0.324324</td>\n",
       "      <td>0.283784</td>\n",
       "      <td>552.482626</td>\n",
       "      <td>1.119999</td>\n",
       "      <td>0</td>\n",
       "    </tr>\n",
       "    <tr>\n",
       "      <th>1</th>\n",
       "      <td>1.000000</td>\n",
       "      <td>1457.166667</td>\n",
       "      <td>181.200000</td>\n",
       "      <td>42.283333</td>\n",
       "      <td>42.500000</td>\n",
       "      <td>0.607143</td>\n",
       "      <td>0.035714</td>\n",
       "      <td>0.357143</td>\n",
       "      <td>462.270177</td>\n",
       "      <td>1.010567</td>\n",
       "      <td>1</td>\n",
       "    </tr>\n",
       "    <tr>\n",
       "      <th>2</th>\n",
       "      <td>1.000000</td>\n",
       "      <td>2997.938547</td>\n",
       "      <td>121.268156</td>\n",
       "      <td>77.195531</td>\n",
       "      <td>188.379888</td>\n",
       "      <td>0.478261</td>\n",
       "      <td>0.130435</td>\n",
       "      <td>0.391304</td>\n",
       "      <td>538.892725</td>\n",
       "      <td>0.930052</td>\n",
       "      <td>0</td>\n",
       "    </tr>\n",
       "    <tr>\n",
       "      <th>3</th>\n",
       "      <td>0.646067</td>\n",
       "      <td>1357.026087</td>\n",
       "      <td>141.295652</td>\n",
       "      <td>54.495652</td>\n",
       "      <td>67.347826</td>\n",
       "      <td>0.000000</td>\n",
       "      <td>0.000000</td>\n",
       "      <td>1.000000</td>\n",
       "      <td>471.969343</td>\n",
       "      <td>1.345699</td>\n",
       "      <td>3</td>\n",
       "    </tr>\n",
       "    <tr>\n",
       "      <th>4</th>\n",
       "      <td>0.480226</td>\n",
       "      <td>1975.200000</td>\n",
       "      <td>0.000000</td>\n",
       "      <td>0.000000</td>\n",
       "      <td>128.600000</td>\n",
       "      <td>0.000000</td>\n",
       "      <td>0.000000</td>\n",
       "      <td>1.000000</td>\n",
       "      <td>411.301478</td>\n",
       "      <td>0.426522</td>\n",
       "      <td>3</td>\n",
       "    </tr>\n",
       "  </tbody>\n",
       "</table>\n",
       "</div>"
      ],
      "text/plain": [
       "   user_activity  average_calories_per_day  average_carbs_per_day  \\\n",
       "0       0.966667               2308.908046             185.431034   \n",
       "1       1.000000               1457.166667             181.200000   \n",
       "2       1.000000               2997.938547             121.268156   \n",
       "3       0.646067               1357.026087             141.295652   \n",
       "4       0.480226               1975.200000               0.000000   \n",
       "\n",
       "   average_fat_per_day  average_protein_per_day  favourite_food_carbs_part  \\\n",
       "0            77.942529               128.781609                   0.391892   \n",
       "1            42.283333                42.500000                   0.607143   \n",
       "2            77.195531               188.379888                   0.478261   \n",
       "3            54.495652                67.347826                   0.000000   \n",
       "4             0.000000               128.600000                   0.000000   \n",
       "\n",
       "   favourite_food_fat_part  favourite_food_protein_part  \\\n",
       "0                 0.324324                     0.283784   \n",
       "1                 0.035714                     0.357143   \n",
       "2                 0.130435                     0.391304   \n",
       "3                 0.000000                     1.000000   \n",
       "4                 0.000000                     1.000000   \n",
       "\n",
       "   goal_taken_calories_error  overal_calories_consumption_change  cluster  \n",
       "0                 552.482626                            1.119999        0  \n",
       "1                 462.270177                            1.010567        1  \n",
       "2                 538.892725                            0.930052        0  \n",
       "3                 471.969343                            1.345699        3  \n",
       "4                 411.301478                            0.426522        3  "
      ]
     },
     "execution_count": 91,
     "metadata": {},
     "output_type": "execute_result"
    }
   ],
   "source": [
    "corresponding_clusters = kmeans.predict(scaled_data).tolist()\n",
    "final_data['cluster'] = corresponding_clusters\n",
    "final_data.head()"
   ]
  },
  {
   "cell_type": "code",
   "execution_count": 100,
   "metadata": {},
   "outputs": [],
   "source": [
    "clusters = []\n",
    "for i in range(8):\n",
    "    clusters.append(final_data.loc[final_data['cluster'] == i])\n",
    "    del clusters[i]['cluster']"
   ]
  },
  {
   "cell_type": "markdown",
   "metadata": {},
   "source": [
    "**First cluster description**"
   ]
  },
  {
   "cell_type": "code",
   "execution_count": 101,
   "metadata": {},
   "outputs": [
    {
     "data": {
      "text/html": [
       "<div>\n",
       "<style scoped>\n",
       "    .dataframe tbody tr th:only-of-type {\n",
       "        vertical-align: middle;\n",
       "    }\n",
       "\n",
       "    .dataframe tbody tr th {\n",
       "        vertical-align: top;\n",
       "    }\n",
       "\n",
       "    .dataframe thead th {\n",
       "        text-align: right;\n",
       "    }\n",
       "</style>\n",
       "<table border=\"1\" class=\"dataframe\">\n",
       "  <thead>\n",
       "    <tr style=\"text-align: right;\">\n",
       "      <th></th>\n",
       "      <th>user_activity</th>\n",
       "      <th>average_calories_per_day</th>\n",
       "      <th>average_carbs_per_day</th>\n",
       "      <th>average_fat_per_day</th>\n",
       "      <th>average_protein_per_day</th>\n",
       "      <th>favourite_food_carbs_part</th>\n",
       "      <th>favourite_food_fat_part</th>\n",
       "      <th>favourite_food_protein_part</th>\n",
       "      <th>goal_taken_calories_error</th>\n",
       "      <th>overal_calories_consumption_change</th>\n",
       "    </tr>\n",
       "  </thead>\n",
       "  <tbody>\n",
       "    <tr>\n",
       "      <th>count</th>\n",
       "      <td>881.000000</td>\n",
       "      <td>881.000000</td>\n",
       "      <td>881.000000</td>\n",
       "      <td>881.000000</td>\n",
       "      <td>881.000000</td>\n",
       "      <td>881.000000</td>\n",
       "      <td>881.000000</td>\n",
       "      <td>881.000000</td>\n",
       "      <td>881.000000</td>\n",
       "      <td>881.000000</td>\n",
       "    </tr>\n",
       "    <tr>\n",
       "      <th>mean</th>\n",
       "      <td>0.817379</td>\n",
       "      <td>2031.857165</td>\n",
       "      <td>210.152783</td>\n",
       "      <td>75.293133</td>\n",
       "      <td>112.206959</td>\n",
       "      <td>0.498241</td>\n",
       "      <td>0.132393</td>\n",
       "      <td>0.228616</td>\n",
       "      <td>855.715711</td>\n",
       "      <td>1.151301</td>\n",
       "    </tr>\n",
       "    <tr>\n",
       "      <th>std</th>\n",
       "      <td>0.218234</td>\n",
       "      <td>422.767856</td>\n",
       "      <td>60.856462</td>\n",
       "      <td>29.820640</td>\n",
       "      <td>49.683918</td>\n",
       "      <td>0.360480</td>\n",
       "      <td>0.198034</td>\n",
       "      <td>0.247495</td>\n",
       "      <td>1880.777113</td>\n",
       "      <td>2.389089</td>\n",
       "    </tr>\n",
       "    <tr>\n",
       "      <th>min</th>\n",
       "      <td>0.173184</td>\n",
       "      <td>1329.642458</td>\n",
       "      <td>26.357143</td>\n",
       "      <td>0.000000</td>\n",
       "      <td>0.000000</td>\n",
       "      <td>0.000000</td>\n",
       "      <td>0.000000</td>\n",
       "      <td>0.000000</td>\n",
       "      <td>99.792730</td>\n",
       "      <td>0.008209</td>\n",
       "    </tr>\n",
       "    <tr>\n",
       "      <th>25%</th>\n",
       "      <td>0.683616</td>\n",
       "      <td>1763.988764</td>\n",
       "      <td>176.301587</td>\n",
       "      <td>60.938547</td>\n",
       "      <td>82.574468</td>\n",
       "      <td>0.103448</td>\n",
       "      <td>0.000000</td>\n",
       "      <td>0.000000</td>\n",
       "      <td>472.522342</td>\n",
       "      <td>0.843262</td>\n",
       "    </tr>\n",
       "    <tr>\n",
       "      <th>50%</th>\n",
       "      <td>0.922222</td>\n",
       "      <td>1933.865079</td>\n",
       "      <td>203.720670</td>\n",
       "      <td>70.925170</td>\n",
       "      <td>101.190184</td>\n",
       "      <td>0.500000</td>\n",
       "      <td>0.035714</td>\n",
       "      <td>0.166667</td>\n",
       "      <td>639.039162</td>\n",
       "      <td>0.987629</td>\n",
       "    </tr>\n",
       "    <tr>\n",
       "      <th>75%</th>\n",
       "      <td>1.000000</td>\n",
       "      <td>2177.440678</td>\n",
       "      <td>238.168831</td>\n",
       "      <td>84.195652</td>\n",
       "      <td>131.609589</td>\n",
       "      <td>0.828571</td>\n",
       "      <td>0.200000</td>\n",
       "      <td>0.363636</td>\n",
       "      <td>885.789028</td>\n",
       "      <td>1.118945</td>\n",
       "    </tr>\n",
       "    <tr>\n",
       "      <th>max</th>\n",
       "      <td>1.000000</td>\n",
       "      <td>5925.988950</td>\n",
       "      <td>664.779006</td>\n",
       "      <td>530.571429</td>\n",
       "      <td>875.837838</td>\n",
       "      <td>1.000000</td>\n",
       "      <td>1.000000</td>\n",
       "      <td>1.000000</td>\n",
       "      <td>41309.036216</td>\n",
       "      <td>66.595787</td>\n",
       "    </tr>\n",
       "  </tbody>\n",
       "</table>\n",
       "</div>"
      ],
      "text/plain": [
       "       user_activity  average_calories_per_day  average_carbs_per_day  \\\n",
       "count     881.000000                881.000000             881.000000   \n",
       "mean        0.817379               2031.857165             210.152783   \n",
       "std         0.218234                422.767856              60.856462   \n",
       "min         0.173184               1329.642458              26.357143   \n",
       "25%         0.683616               1763.988764             176.301587   \n",
       "50%         0.922222               1933.865079             203.720670   \n",
       "75%         1.000000               2177.440678             238.168831   \n",
       "max         1.000000               5925.988950             664.779006   \n",
       "\n",
       "       average_fat_per_day  average_protein_per_day  \\\n",
       "count           881.000000               881.000000   \n",
       "mean             75.293133               112.206959   \n",
       "std              29.820640                49.683918   \n",
       "min               0.000000                 0.000000   \n",
       "25%              60.938547                82.574468   \n",
       "50%              70.925170               101.190184   \n",
       "75%              84.195652               131.609589   \n",
       "max             530.571429               875.837838   \n",
       "\n",
       "       favourite_food_carbs_part  favourite_food_fat_part  \\\n",
       "count                 881.000000               881.000000   \n",
       "mean                    0.498241                 0.132393   \n",
       "std                     0.360480                 0.198034   \n",
       "min                     0.000000                 0.000000   \n",
       "25%                     0.103448                 0.000000   \n",
       "50%                     0.500000                 0.035714   \n",
       "75%                     0.828571                 0.200000   \n",
       "max                     1.000000                 1.000000   \n",
       "\n",
       "       favourite_food_protein_part  goal_taken_calories_error  \\\n",
       "count                   881.000000                 881.000000   \n",
       "mean                      0.228616                 855.715711   \n",
       "std                       0.247495                1880.777113   \n",
       "min                       0.000000                  99.792730   \n",
       "25%                       0.000000                 472.522342   \n",
       "50%                       0.166667                 639.039162   \n",
       "75%                       0.363636                 885.789028   \n",
       "max                       1.000000               41309.036216   \n",
       "\n",
       "       overal_calories_consumption_change  \n",
       "count                          881.000000  \n",
       "mean                             1.151301  \n",
       "std                              2.389089  \n",
       "min                              0.008209  \n",
       "25%                              0.843262  \n",
       "50%                              0.987629  \n",
       "75%                              1.118945  \n",
       "max                             66.595787  "
      ]
     },
     "execution_count": 101,
     "metadata": {},
     "output_type": "execute_result"
    }
   ],
   "source": [
    "clusters[0].describe()"
   ]
  },
  {
   "cell_type": "markdown",
   "metadata": {},
   "source": [
    "**Second cluster description**"
   ]
  },
  {
   "cell_type": "code",
   "execution_count": 102,
   "metadata": {},
   "outputs": [
    {
     "data": {
      "text/html": [
       "<div>\n",
       "<style scoped>\n",
       "    .dataframe tbody tr th:only-of-type {\n",
       "        vertical-align: middle;\n",
       "    }\n",
       "\n",
       "    .dataframe tbody tr th {\n",
       "        vertical-align: top;\n",
       "    }\n",
       "\n",
       "    .dataframe thead th {\n",
       "        text-align: right;\n",
       "    }\n",
       "</style>\n",
       "<table border=\"1\" class=\"dataframe\">\n",
       "  <thead>\n",
       "    <tr style=\"text-align: right;\">\n",
       "      <th></th>\n",
       "      <th>user_activity</th>\n",
       "      <th>average_calories_per_day</th>\n",
       "      <th>average_carbs_per_day</th>\n",
       "      <th>average_fat_per_day</th>\n",
       "      <th>average_protein_per_day</th>\n",
       "      <th>favourite_food_carbs_part</th>\n",
       "      <th>favourite_food_fat_part</th>\n",
       "      <th>favourite_food_protein_part</th>\n",
       "      <th>goal_taken_calories_error</th>\n",
       "      <th>overal_calories_consumption_change</th>\n",
       "    </tr>\n",
       "  </thead>\n",
       "  <tbody>\n",
       "    <tr>\n",
       "      <th>count</th>\n",
       "      <td>2263.000000</td>\n",
       "      <td>2263.000000</td>\n",
       "      <td>2263.000000</td>\n",
       "      <td>2263.000000</td>\n",
       "      <td>2263.000000</td>\n",
       "      <td>2263.000000</td>\n",
       "      <td>2263.000000</td>\n",
       "      <td>2263.000000</td>\n",
       "      <td>2263.000000</td>\n",
       "      <td>2263.000000</td>\n",
       "    </tr>\n",
       "    <tr>\n",
       "      <th>mean</th>\n",
       "      <td>0.586105</td>\n",
       "      <td>1226.190513</td>\n",
       "      <td>135.613397</td>\n",
       "      <td>42.122677</td>\n",
       "      <td>58.554574</td>\n",
       "      <td>0.787451</td>\n",
       "      <td>0.068442</td>\n",
       "      <td>0.144107</td>\n",
       "      <td>695.006212</td>\n",
       "      <td>1.497207</td>\n",
       "    </tr>\n",
       "    <tr>\n",
       "      <th>std</th>\n",
       "      <td>0.253041</td>\n",
       "      <td>280.407552</td>\n",
       "      <td>39.180952</td>\n",
       "      <td>15.266802</td>\n",
       "      <td>20.164726</td>\n",
       "      <td>0.190505</td>\n",
       "      <td>0.097660</td>\n",
       "      <td>0.152547</td>\n",
       "      <td>316.509605</td>\n",
       "      <td>9.836154</td>\n",
       "    </tr>\n",
       "    <tr>\n",
       "      <th>min</th>\n",
       "      <td>0.163043</td>\n",
       "      <td>215.100000</td>\n",
       "      <td>6.830189</td>\n",
       "      <td>0.000000</td>\n",
       "      <td>0.000000</td>\n",
       "      <td>0.266667</td>\n",
       "      <td>0.000000</td>\n",
       "      <td>0.000000</td>\n",
       "      <td>81.569201</td>\n",
       "      <td>0.013189</td>\n",
       "    </tr>\n",
       "    <tr>\n",
       "      <th>25%</th>\n",
       "      <td>0.367524</td>\n",
       "      <td>1052.068353</td>\n",
       "      <td>110.642977</td>\n",
       "      <td>33.662482</td>\n",
       "      <td>46.683333</td>\n",
       "      <td>0.625000</td>\n",
       "      <td>0.000000</td>\n",
       "      <td>0.000000</td>\n",
       "      <td>497.272548</td>\n",
       "      <td>0.744671</td>\n",
       "    </tr>\n",
       "    <tr>\n",
       "      <th>50%</th>\n",
       "      <td>0.547619</td>\n",
       "      <td>1244.875676</td>\n",
       "      <td>137.285714</td>\n",
       "      <td>43.000000</td>\n",
       "      <td>57.610169</td>\n",
       "      <td>0.808511</td>\n",
       "      <td>0.000000</td>\n",
       "      <td>0.083333</td>\n",
       "      <td>636.531159</td>\n",
       "      <td>0.954903</td>\n",
       "    </tr>\n",
       "    <tr>\n",
       "      <th>75%</th>\n",
       "      <td>0.809119</td>\n",
       "      <td>1416.307580</td>\n",
       "      <td>161.254295</td>\n",
       "      <td>51.432959</td>\n",
       "      <td>69.804276</td>\n",
       "      <td>0.966667</td>\n",
       "      <td>0.120976</td>\n",
       "      <td>0.250000</td>\n",
       "      <td>827.209281</td>\n",
       "      <td>1.203787</td>\n",
       "    </tr>\n",
       "    <tr>\n",
       "      <th>max</th>\n",
       "      <td>1.000000</td>\n",
       "      <td>3156.395833</td>\n",
       "      <td>296.706667</td>\n",
       "      <td>117.250000</td>\n",
       "      <td>138.552239</td>\n",
       "      <td>1.000000</td>\n",
       "      <td>0.428571</td>\n",
       "      <td>0.611111</td>\n",
       "      <td>5570.743499</td>\n",
       "      <td>428.200000</td>\n",
       "    </tr>\n",
       "  </tbody>\n",
       "</table>\n",
       "</div>"
      ],
      "text/plain": [
       "       user_activity  average_calories_per_day  average_carbs_per_day  \\\n",
       "count    2263.000000               2263.000000            2263.000000   \n",
       "mean        0.586105               1226.190513             135.613397   \n",
       "std         0.253041                280.407552              39.180952   \n",
       "min         0.163043                215.100000               6.830189   \n",
       "25%         0.367524               1052.068353             110.642977   \n",
       "50%         0.547619               1244.875676             137.285714   \n",
       "75%         0.809119               1416.307580             161.254295   \n",
       "max         1.000000               3156.395833             296.706667   \n",
       "\n",
       "       average_fat_per_day  average_protein_per_day  \\\n",
       "count          2263.000000              2263.000000   \n",
       "mean             42.122677                58.554574   \n",
       "std              15.266802                20.164726   \n",
       "min               0.000000                 0.000000   \n",
       "25%              33.662482                46.683333   \n",
       "50%              43.000000                57.610169   \n",
       "75%              51.432959                69.804276   \n",
       "max             117.250000               138.552239   \n",
       "\n",
       "       favourite_food_carbs_part  favourite_food_fat_part  \\\n",
       "count                2263.000000              2263.000000   \n",
       "mean                    0.787451                 0.068442   \n",
       "std                     0.190505                 0.097660   \n",
       "min                     0.266667                 0.000000   \n",
       "25%                     0.625000                 0.000000   \n",
       "50%                     0.808511                 0.000000   \n",
       "75%                     0.966667                 0.120976   \n",
       "max                     1.000000                 0.428571   \n",
       "\n",
       "       favourite_food_protein_part  goal_taken_calories_error  \\\n",
       "count                  2263.000000                2263.000000   \n",
       "mean                      0.144107                 695.006212   \n",
       "std                       0.152547                 316.509605   \n",
       "min                       0.000000                  81.569201   \n",
       "25%                       0.000000                 497.272548   \n",
       "50%                       0.083333                 636.531159   \n",
       "75%                       0.250000                 827.209281   \n",
       "max                       0.611111                5570.743499   \n",
       "\n",
       "       overal_calories_consumption_change  \n",
       "count                         2263.000000  \n",
       "mean                             1.497207  \n",
       "std                              9.836154  \n",
       "min                              0.013189  \n",
       "25%                              0.744671  \n",
       "50%                              0.954903  \n",
       "75%                              1.203787  \n",
       "max                            428.200000  "
      ]
     },
     "execution_count": 102,
     "metadata": {},
     "output_type": "execute_result"
    }
   ],
   "source": [
    "clusters[1].describe()"
   ]
  },
  {
   "cell_type": "markdown",
   "metadata": {},
   "source": [
    "**Third cluster description**"
   ]
  },
  {
   "cell_type": "code",
   "execution_count": 103,
   "metadata": {},
   "outputs": [
    {
     "data": {
      "text/html": [
       "<div>\n",
       "<style scoped>\n",
       "    .dataframe tbody tr th:only-of-type {\n",
       "        vertical-align: middle;\n",
       "    }\n",
       "\n",
       "    .dataframe tbody tr th {\n",
       "        vertical-align: top;\n",
       "    }\n",
       "\n",
       "    .dataframe thead th {\n",
       "        text-align: right;\n",
       "    }\n",
       "</style>\n",
       "<table border=\"1\" class=\"dataframe\">\n",
       "  <thead>\n",
       "    <tr style=\"text-align: right;\">\n",
       "      <th></th>\n",
       "      <th>user_activity</th>\n",
       "      <th>average_calories_per_day</th>\n",
       "      <th>average_carbs_per_day</th>\n",
       "      <th>average_fat_per_day</th>\n",
       "      <th>average_protein_per_day</th>\n",
       "      <th>favourite_food_carbs_part</th>\n",
       "      <th>favourite_food_fat_part</th>\n",
       "      <th>favourite_food_protein_part</th>\n",
       "      <th>goal_taken_calories_error</th>\n",
       "      <th>overal_calories_consumption_change</th>\n",
       "    </tr>\n",
       "  </thead>\n",
       "  <tbody>\n",
       "    <tr>\n",
       "      <th>count</th>\n",
       "      <td>1045.000000</td>\n",
       "      <td>1045.000000</td>\n",
       "      <td>1045.000000</td>\n",
       "      <td>1045.000000</td>\n",
       "      <td>1045.000000</td>\n",
       "      <td>1045.000000</td>\n",
       "      <td>1045.000000</td>\n",
       "      <td>1045.000000</td>\n",
       "      <td>1045.000000</td>\n",
       "      <td>1045.000000</td>\n",
       "    </tr>\n",
       "    <tr>\n",
       "      <th>mean</th>\n",
       "      <td>0.609696</td>\n",
       "      <td>1286.395105</td>\n",
       "      <td>112.501038</td>\n",
       "      <td>56.598390</td>\n",
       "      <td>66.962708</td>\n",
       "      <td>0.113596</td>\n",
       "      <td>0.649080</td>\n",
       "      <td>0.237325</td>\n",
       "      <td>686.450330</td>\n",
       "      <td>1.201206</td>\n",
       "    </tr>\n",
       "    <tr>\n",
       "      <th>std</th>\n",
       "      <td>0.260388</td>\n",
       "      <td>316.669297</td>\n",
       "      <td>50.733152</td>\n",
       "      <td>22.079298</td>\n",
       "      <td>23.548228</td>\n",
       "      <td>0.141928</td>\n",
       "      <td>0.237224</td>\n",
       "      <td>0.217130</td>\n",
       "      <td>326.514111</td>\n",
       "      <td>2.191198</td>\n",
       "    </tr>\n",
       "    <tr>\n",
       "      <th>min</th>\n",
       "      <td>0.175439</td>\n",
       "      <td>240.500000</td>\n",
       "      <td>0.000000</td>\n",
       "      <td>1.094340</td>\n",
       "      <td>0.000000</td>\n",
       "      <td>0.000000</td>\n",
       "      <td>0.250000</td>\n",
       "      <td>0.000000</td>\n",
       "      <td>157.792167</td>\n",
       "      <td>0.027152</td>\n",
       "    </tr>\n",
       "    <tr>\n",
       "      <th>25%</th>\n",
       "      <td>0.379888</td>\n",
       "      <td>1085.739726</td>\n",
       "      <td>76.566265</td>\n",
       "      <td>41.948718</td>\n",
       "      <td>51.975000</td>\n",
       "      <td>0.000000</td>\n",
       "      <td>0.454545</td>\n",
       "      <td>0.000000</td>\n",
       "      <td>478.196821</td>\n",
       "      <td>0.763017</td>\n",
       "    </tr>\n",
       "    <tr>\n",
       "      <th>50%</th>\n",
       "      <td>0.581006</td>\n",
       "      <td>1269.382353</td>\n",
       "      <td>116.701754</td>\n",
       "      <td>52.547297</td>\n",
       "      <td>64.548387</td>\n",
       "      <td>0.043478</td>\n",
       "      <td>0.571429</td>\n",
       "      <td>0.200000</td>\n",
       "      <td>626.749607</td>\n",
       "      <td>0.963268</td>\n",
       "    </tr>\n",
       "    <tr>\n",
       "      <th>75%</th>\n",
       "      <td>0.860335</td>\n",
       "      <td>1491.965909</td>\n",
       "      <td>148.562092</td>\n",
       "      <td>66.833333</td>\n",
       "      <td>79.205128</td>\n",
       "      <td>0.200000</td>\n",
       "      <td>1.000000</td>\n",
       "      <td>0.464286</td>\n",
       "      <td>826.789375</td>\n",
       "      <td>1.187294</td>\n",
       "    </tr>\n",
       "    <tr>\n",
       "      <th>max</th>\n",
       "      <td>1.000000</td>\n",
       "      <td>2976.434783</td>\n",
       "      <td>257.124260</td>\n",
       "      <td>178.784946</td>\n",
       "      <td>172.701087</td>\n",
       "      <td>0.545455</td>\n",
       "      <td>1.000000</td>\n",
       "      <td>0.625000</td>\n",
       "      <td>3770.777786</td>\n",
       "      <td>41.352174</td>\n",
       "    </tr>\n",
       "  </tbody>\n",
       "</table>\n",
       "</div>"
      ],
      "text/plain": [
       "       user_activity  average_calories_per_day  average_carbs_per_day  \\\n",
       "count    1045.000000               1045.000000            1045.000000   \n",
       "mean        0.609696               1286.395105             112.501038   \n",
       "std         0.260388                316.669297              50.733152   \n",
       "min         0.175439                240.500000               0.000000   \n",
       "25%         0.379888               1085.739726              76.566265   \n",
       "50%         0.581006               1269.382353             116.701754   \n",
       "75%         0.860335               1491.965909             148.562092   \n",
       "max         1.000000               2976.434783             257.124260   \n",
       "\n",
       "       average_fat_per_day  average_protein_per_day  \\\n",
       "count          1045.000000              1045.000000   \n",
       "mean             56.598390                66.962708   \n",
       "std              22.079298                23.548228   \n",
       "min               1.094340                 0.000000   \n",
       "25%              41.948718                51.975000   \n",
       "50%              52.547297                64.548387   \n",
       "75%              66.833333                79.205128   \n",
       "max             178.784946               172.701087   \n",
       "\n",
       "       favourite_food_carbs_part  favourite_food_fat_part  \\\n",
       "count                1045.000000              1045.000000   \n",
       "mean                    0.113596                 0.649080   \n",
       "std                     0.141928                 0.237224   \n",
       "min                     0.000000                 0.250000   \n",
       "25%                     0.000000                 0.454545   \n",
       "50%                     0.043478                 0.571429   \n",
       "75%                     0.200000                 1.000000   \n",
       "max                     0.545455                 1.000000   \n",
       "\n",
       "       favourite_food_protein_part  goal_taken_calories_error  \\\n",
       "count                  1045.000000                1045.000000   \n",
       "mean                      0.237325                 686.450330   \n",
       "std                       0.217130                 326.514111   \n",
       "min                       0.000000                 157.792167   \n",
       "25%                       0.000000                 478.196821   \n",
       "50%                       0.200000                 626.749607   \n",
       "75%                       0.464286                 826.789375   \n",
       "max                       0.625000                3770.777786   \n",
       "\n",
       "       overal_calories_consumption_change  \n",
       "count                         1045.000000  \n",
       "mean                             1.201206  \n",
       "std                              2.191198  \n",
       "min                              0.027152  \n",
       "25%                              0.763017  \n",
       "50%                              0.963268  \n",
       "75%                              1.187294  \n",
       "max                             41.352174  "
      ]
     },
     "execution_count": 103,
     "metadata": {},
     "output_type": "execute_result"
    }
   ],
   "source": [
    "clusters[2].describe()"
   ]
  },
  {
   "cell_type": "markdown",
   "metadata": {},
   "source": [
    "**Fourth cluster description**"
   ]
  },
  {
   "cell_type": "code",
   "execution_count": 104,
   "metadata": {},
   "outputs": [
    {
     "data": {
      "text/html": [
       "<div>\n",
       "<style scoped>\n",
       "    .dataframe tbody tr th:only-of-type {\n",
       "        vertical-align: middle;\n",
       "    }\n",
       "\n",
       "    .dataframe tbody tr th {\n",
       "        vertical-align: top;\n",
       "    }\n",
       "\n",
       "    .dataframe thead th {\n",
       "        text-align: right;\n",
       "    }\n",
       "</style>\n",
       "<table border=\"1\" class=\"dataframe\">\n",
       "  <thead>\n",
       "    <tr style=\"text-align: right;\">\n",
       "      <th></th>\n",
       "      <th>user_activity</th>\n",
       "      <th>average_calories_per_day</th>\n",
       "      <th>average_carbs_per_day</th>\n",
       "      <th>average_fat_per_day</th>\n",
       "      <th>average_protein_per_day</th>\n",
       "      <th>favourite_food_carbs_part</th>\n",
       "      <th>favourite_food_fat_part</th>\n",
       "      <th>favourite_food_protein_part</th>\n",
       "      <th>goal_taken_calories_error</th>\n",
       "      <th>overal_calories_consumption_change</th>\n",
       "    </tr>\n",
       "  </thead>\n",
       "  <tbody>\n",
       "    <tr>\n",
       "      <th>count</th>\n",
       "      <td>851.000000</td>\n",
       "      <td>851.000000</td>\n",
       "      <td>851.000000</td>\n",
       "      <td>851.000000</td>\n",
       "      <td>851.000000</td>\n",
       "      <td>851.000000</td>\n",
       "      <td>851.000000</td>\n",
       "      <td>851.000000</td>\n",
       "      <td>851.000000</td>\n",
       "      <td>851.000000</td>\n",
       "    </tr>\n",
       "    <tr>\n",
       "      <th>mean</th>\n",
       "      <td>0.631554</td>\n",
       "      <td>1332.265083</td>\n",
       "      <td>123.908661</td>\n",
       "      <td>46.800224</td>\n",
       "      <td>80.842520</td>\n",
       "      <td>0.079917</td>\n",
       "      <td>0.056897</td>\n",
       "      <td>0.863185</td>\n",
       "      <td>701.821021</td>\n",
       "      <td>1.531743</td>\n",
       "    </tr>\n",
       "    <tr>\n",
       "      <th>std</th>\n",
       "      <td>0.258858</td>\n",
       "      <td>328.567749</td>\n",
       "      <td>49.833078</td>\n",
       "      <td>19.544376</td>\n",
       "      <td>30.941425</td>\n",
       "      <td>0.126550</td>\n",
       "      <td>0.093651</td>\n",
       "      <td>0.161182</td>\n",
       "      <td>295.784447</td>\n",
       "      <td>10.256342</td>\n",
       "    </tr>\n",
       "    <tr>\n",
       "      <th>min</th>\n",
       "      <td>0.167598</td>\n",
       "      <td>300.112360</td>\n",
       "      <td>0.000000</td>\n",
       "      <td>0.000000</td>\n",
       "      <td>18.800000</td>\n",
       "      <td>0.000000</td>\n",
       "      <td>0.000000</td>\n",
       "      <td>0.416667</td>\n",
       "      <td>72.837452</td>\n",
       "      <td>0.060004</td>\n",
       "    </tr>\n",
       "    <tr>\n",
       "      <th>25%</th>\n",
       "      <td>0.407794</td>\n",
       "      <td>1107.786254</td>\n",
       "      <td>92.998270</td>\n",
       "      <td>36.335351</td>\n",
       "      <td>58.547711</td>\n",
       "      <td>0.000000</td>\n",
       "      <td>0.000000</td>\n",
       "      <td>0.750000</td>\n",
       "      <td>494.351627</td>\n",
       "      <td>0.807566</td>\n",
       "    </tr>\n",
       "    <tr>\n",
       "      <th>50%</th>\n",
       "      <td>0.610778</td>\n",
       "      <td>1333.495726</td>\n",
       "      <td>127.206704</td>\n",
       "      <td>46.647727</td>\n",
       "      <td>75.787671</td>\n",
       "      <td>0.000000</td>\n",
       "      <td>0.000000</td>\n",
       "      <td>0.921053</td>\n",
       "      <td>645.713246</td>\n",
       "      <td>0.987011</td>\n",
       "    </tr>\n",
       "    <tr>\n",
       "      <th>75%</th>\n",
       "      <td>0.891111</td>\n",
       "      <td>1546.600000</td>\n",
       "      <td>155.421379</td>\n",
       "      <td>57.941406</td>\n",
       "      <td>97.098853</td>\n",
       "      <td>0.131579</td>\n",
       "      <td>0.076923</td>\n",
       "      <td>1.000000</td>\n",
       "      <td>841.727391</td>\n",
       "      <td>1.200007</td>\n",
       "    </tr>\n",
       "    <tr>\n",
       "      <th>max</th>\n",
       "      <td>1.000000</td>\n",
       "      <td>2968.177778</td>\n",
       "      <td>298.985714</td>\n",
       "      <td>137.132812</td>\n",
       "      <td>293.805556</td>\n",
       "      <td>0.500000</td>\n",
       "      <td>0.416667</td>\n",
       "      <td>1.000000</td>\n",
       "      <td>2077.086830</td>\n",
       "      <td>298.402778</td>\n",
       "    </tr>\n",
       "  </tbody>\n",
       "</table>\n",
       "</div>"
      ],
      "text/plain": [
       "       user_activity  average_calories_per_day  average_carbs_per_day  \\\n",
       "count     851.000000                851.000000             851.000000   \n",
       "mean        0.631554               1332.265083             123.908661   \n",
       "std         0.258858                328.567749              49.833078   \n",
       "min         0.167598                300.112360               0.000000   \n",
       "25%         0.407794               1107.786254              92.998270   \n",
       "50%         0.610778               1333.495726             127.206704   \n",
       "75%         0.891111               1546.600000             155.421379   \n",
       "max         1.000000               2968.177778             298.985714   \n",
       "\n",
       "       average_fat_per_day  average_protein_per_day  \\\n",
       "count           851.000000               851.000000   \n",
       "mean             46.800224                80.842520   \n",
       "std              19.544376                30.941425   \n",
       "min               0.000000                18.800000   \n",
       "25%              36.335351                58.547711   \n",
       "50%              46.647727                75.787671   \n",
       "75%              57.941406                97.098853   \n",
       "max             137.132812               293.805556   \n",
       "\n",
       "       favourite_food_carbs_part  favourite_food_fat_part  \\\n",
       "count                 851.000000               851.000000   \n",
       "mean                    0.079917                 0.056897   \n",
       "std                     0.126550                 0.093651   \n",
       "min                     0.000000                 0.000000   \n",
       "25%                     0.000000                 0.000000   \n",
       "50%                     0.000000                 0.000000   \n",
       "75%                     0.131579                 0.076923   \n",
       "max                     0.500000                 0.416667   \n",
       "\n",
       "       favourite_food_protein_part  goal_taken_calories_error  \\\n",
       "count                   851.000000                 851.000000   \n",
       "mean                      0.863185                 701.821021   \n",
       "std                       0.161182                 295.784447   \n",
       "min                       0.416667                  72.837452   \n",
       "25%                       0.750000                 494.351627   \n",
       "50%                       0.921053                 645.713246   \n",
       "75%                       1.000000                 841.727391   \n",
       "max                       1.000000                2077.086830   \n",
       "\n",
       "       overal_calories_consumption_change  \n",
       "count                          851.000000  \n",
       "mean                             1.531743  \n",
       "std                             10.256342  \n",
       "min                              0.060004  \n",
       "25%                              0.807566  \n",
       "50%                              0.987011  \n",
       "75%                              1.200007  \n",
       "max                            298.402778  "
      ]
     },
     "execution_count": 104,
     "metadata": {},
     "output_type": "execute_result"
    }
   ],
   "source": [
    "clusters[3].describe()"
   ]
  },
  {
   "cell_type": "markdown",
   "metadata": {},
   "source": [
    "**Fifth cluster description**"
   ]
  },
  {
   "cell_type": "code",
   "execution_count": 105,
   "metadata": {
    "scrolled": true
   },
   "outputs": [
    {
     "data": {
      "text/html": [
       "<div>\n",
       "<style scoped>\n",
       "    .dataframe tbody tr th:only-of-type {\n",
       "        vertical-align: middle;\n",
       "    }\n",
       "\n",
       "    .dataframe tbody tr th {\n",
       "        vertical-align: top;\n",
       "    }\n",
       "\n",
       "    .dataframe thead th {\n",
       "        text-align: right;\n",
       "    }\n",
       "</style>\n",
       "<table border=\"1\" class=\"dataframe\">\n",
       "  <thead>\n",
       "    <tr style=\"text-align: right;\">\n",
       "      <th></th>\n",
       "      <th>user_activity</th>\n",
       "      <th>average_calories_per_day</th>\n",
       "      <th>average_carbs_per_day</th>\n",
       "      <th>average_fat_per_day</th>\n",
       "      <th>average_protein_per_day</th>\n",
       "      <th>favourite_food_carbs_part</th>\n",
       "      <th>favourite_food_fat_part</th>\n",
       "      <th>favourite_food_protein_part</th>\n",
       "      <th>goal_taken_calories_error</th>\n",
       "      <th>overal_calories_consumption_change</th>\n",
       "    </tr>\n",
       "  </thead>\n",
       "  <tbody>\n",
       "    <tr>\n",
       "      <th>count</th>\n",
       "      <td>1.0</td>\n",
       "      <td>1.000000</td>\n",
       "      <td>1.000000</td>\n",
       "      <td>1.000000</td>\n",
       "      <td>1.00</td>\n",
       "      <td>1.0</td>\n",
       "      <td>1.0</td>\n",
       "      <td>1.0</td>\n",
       "      <td>1.000000</td>\n",
       "      <td>1.000000</td>\n",
       "    </tr>\n",
       "    <tr>\n",
       "      <th>mean</th>\n",
       "      <td>1.0</td>\n",
       "      <td>2186.994444</td>\n",
       "      <td>266.577778</td>\n",
       "      <td>62.566667</td>\n",
       "      <td>146.95</td>\n",
       "      <td>1.0</td>\n",
       "      <td>0.0</td>\n",
       "      <td>0.0</td>\n",
       "      <td>820.232294</td>\n",
       "      <td>2300.642857</td>\n",
       "    </tr>\n",
       "    <tr>\n",
       "      <th>std</th>\n",
       "      <td>NaN</td>\n",
       "      <td>NaN</td>\n",
       "      <td>NaN</td>\n",
       "      <td>NaN</td>\n",
       "      <td>NaN</td>\n",
       "      <td>NaN</td>\n",
       "      <td>NaN</td>\n",
       "      <td>NaN</td>\n",
       "      <td>NaN</td>\n",
       "      <td>NaN</td>\n",
       "    </tr>\n",
       "    <tr>\n",
       "      <th>min</th>\n",
       "      <td>1.0</td>\n",
       "      <td>2186.994444</td>\n",
       "      <td>266.577778</td>\n",
       "      <td>62.566667</td>\n",
       "      <td>146.95</td>\n",
       "      <td>1.0</td>\n",
       "      <td>0.0</td>\n",
       "      <td>0.0</td>\n",
       "      <td>820.232294</td>\n",
       "      <td>2300.642857</td>\n",
       "    </tr>\n",
       "    <tr>\n",
       "      <th>25%</th>\n",
       "      <td>1.0</td>\n",
       "      <td>2186.994444</td>\n",
       "      <td>266.577778</td>\n",
       "      <td>62.566667</td>\n",
       "      <td>146.95</td>\n",
       "      <td>1.0</td>\n",
       "      <td>0.0</td>\n",
       "      <td>0.0</td>\n",
       "      <td>820.232294</td>\n",
       "      <td>2300.642857</td>\n",
       "    </tr>\n",
       "    <tr>\n",
       "      <th>50%</th>\n",
       "      <td>1.0</td>\n",
       "      <td>2186.994444</td>\n",
       "      <td>266.577778</td>\n",
       "      <td>62.566667</td>\n",
       "      <td>146.95</td>\n",
       "      <td>1.0</td>\n",
       "      <td>0.0</td>\n",
       "      <td>0.0</td>\n",
       "      <td>820.232294</td>\n",
       "      <td>2300.642857</td>\n",
       "    </tr>\n",
       "    <tr>\n",
       "      <th>75%</th>\n",
       "      <td>1.0</td>\n",
       "      <td>2186.994444</td>\n",
       "      <td>266.577778</td>\n",
       "      <td>62.566667</td>\n",
       "      <td>146.95</td>\n",
       "      <td>1.0</td>\n",
       "      <td>0.0</td>\n",
       "      <td>0.0</td>\n",
       "      <td>820.232294</td>\n",
       "      <td>2300.642857</td>\n",
       "    </tr>\n",
       "    <tr>\n",
       "      <th>max</th>\n",
       "      <td>1.0</td>\n",
       "      <td>2186.994444</td>\n",
       "      <td>266.577778</td>\n",
       "      <td>62.566667</td>\n",
       "      <td>146.95</td>\n",
       "      <td>1.0</td>\n",
       "      <td>0.0</td>\n",
       "      <td>0.0</td>\n",
       "      <td>820.232294</td>\n",
       "      <td>2300.642857</td>\n",
       "    </tr>\n",
       "  </tbody>\n",
       "</table>\n",
       "</div>"
      ],
      "text/plain": [
       "       user_activity  average_calories_per_day  average_carbs_per_day  \\\n",
       "count            1.0                  1.000000               1.000000   \n",
       "mean             1.0               2186.994444             266.577778   \n",
       "std              NaN                       NaN                    NaN   \n",
       "min              1.0               2186.994444             266.577778   \n",
       "25%              1.0               2186.994444             266.577778   \n",
       "50%              1.0               2186.994444             266.577778   \n",
       "75%              1.0               2186.994444             266.577778   \n",
       "max              1.0               2186.994444             266.577778   \n",
       "\n",
       "       average_fat_per_day  average_protein_per_day  \\\n",
       "count             1.000000                     1.00   \n",
       "mean             62.566667                   146.95   \n",
       "std                    NaN                      NaN   \n",
       "min              62.566667                   146.95   \n",
       "25%              62.566667                   146.95   \n",
       "50%              62.566667                   146.95   \n",
       "75%              62.566667                   146.95   \n",
       "max              62.566667                   146.95   \n",
       "\n",
       "       favourite_food_carbs_part  favourite_food_fat_part  \\\n",
       "count                        1.0                      1.0   \n",
       "mean                         1.0                      0.0   \n",
       "std                          NaN                      NaN   \n",
       "min                          1.0                      0.0   \n",
       "25%                          1.0                      0.0   \n",
       "50%                          1.0                      0.0   \n",
       "75%                          1.0                      0.0   \n",
       "max                          1.0                      0.0   \n",
       "\n",
       "       favourite_food_protein_part  goal_taken_calories_error  \\\n",
       "count                          1.0                   1.000000   \n",
       "mean                           0.0                 820.232294   \n",
       "std                            NaN                        NaN   \n",
       "min                            0.0                 820.232294   \n",
       "25%                            0.0                 820.232294   \n",
       "50%                            0.0                 820.232294   \n",
       "75%                            0.0                 820.232294   \n",
       "max                            0.0                 820.232294   \n",
       "\n",
       "       overal_calories_consumption_change  \n",
       "count                            1.000000  \n",
       "mean                          2300.642857  \n",
       "std                                   NaN  \n",
       "min                           2300.642857  \n",
       "25%                           2300.642857  \n",
       "50%                           2300.642857  \n",
       "75%                           2300.642857  \n",
       "max                           2300.642857  "
      ]
     },
     "execution_count": 105,
     "metadata": {},
     "output_type": "execute_result"
    }
   ],
   "source": [
    "clusters[4].describe()"
   ]
  },
  {
   "cell_type": "markdown",
   "metadata": {},
   "source": [
    "**Sixth cluster description**"
   ]
  },
  {
   "cell_type": "code",
   "execution_count": 106,
   "metadata": {
    "scrolled": false
   },
   "outputs": [
    {
     "data": {
      "text/html": [
       "<div>\n",
       "<style scoped>\n",
       "    .dataframe tbody tr th:only-of-type {\n",
       "        vertical-align: middle;\n",
       "    }\n",
       "\n",
       "    .dataframe tbody tr th {\n",
       "        vertical-align: top;\n",
       "    }\n",
       "\n",
       "    .dataframe thead th {\n",
       "        text-align: right;\n",
       "    }\n",
       "</style>\n",
       "<table border=\"1\" class=\"dataframe\">\n",
       "  <thead>\n",
       "    <tr style=\"text-align: right;\">\n",
       "      <th></th>\n",
       "      <th>user_activity</th>\n",
       "      <th>average_calories_per_day</th>\n",
       "      <th>average_carbs_per_day</th>\n",
       "      <th>average_fat_per_day</th>\n",
       "      <th>average_protein_per_day</th>\n",
       "      <th>favourite_food_carbs_part</th>\n",
       "      <th>favourite_food_fat_part</th>\n",
       "      <th>favourite_food_protein_part</th>\n",
       "      <th>goal_taken_calories_error</th>\n",
       "      <th>overal_calories_consumption_change</th>\n",
       "    </tr>\n",
       "  </thead>\n",
       "  <tbody>\n",
       "    <tr>\n",
       "      <th>count</th>\n",
       "      <td>780.000000</td>\n",
       "      <td>780.000000</td>\n",
       "      <td>780.000000</td>\n",
       "      <td>780.000000</td>\n",
       "      <td>780.000000</td>\n",
       "      <td>780.0</td>\n",
       "      <td>780.0</td>\n",
       "      <td>780.0</td>\n",
       "      <td>780.000000</td>\n",
       "      <td>780.000000</td>\n",
       "    </tr>\n",
       "    <tr>\n",
       "      <th>mean</th>\n",
       "      <td>0.647918</td>\n",
       "      <td>1261.960751</td>\n",
       "      <td>120.352082</td>\n",
       "      <td>45.851380</td>\n",
       "      <td>59.543298</td>\n",
       "      <td>0.0</td>\n",
       "      <td>0.0</td>\n",
       "      <td>0.0</td>\n",
       "      <td>699.846099</td>\n",
       "      <td>1.145104</td>\n",
       "    </tr>\n",
       "    <tr>\n",
       "      <th>std</th>\n",
       "      <td>0.258654</td>\n",
       "      <td>284.721963</td>\n",
       "      <td>49.927734</td>\n",
       "      <td>20.087639</td>\n",
       "      <td>21.803077</td>\n",
       "      <td>0.0</td>\n",
       "      <td>0.0</td>\n",
       "      <td>0.0</td>\n",
       "      <td>312.229660</td>\n",
       "      <td>1.638561</td>\n",
       "    </tr>\n",
       "    <tr>\n",
       "      <th>min</th>\n",
       "      <td>0.173184</td>\n",
       "      <td>219.796117</td>\n",
       "      <td>0.000000</td>\n",
       "      <td>0.000000</td>\n",
       "      <td>0.000000</td>\n",
       "      <td>0.0</td>\n",
       "      <td>0.0</td>\n",
       "      <td>0.0</td>\n",
       "      <td>75.168179</td>\n",
       "      <td>0.000000</td>\n",
       "    </tr>\n",
       "    <tr>\n",
       "      <th>25%</th>\n",
       "      <td>0.408792</td>\n",
       "      <td>1069.147727</td>\n",
       "      <td>90.110983</td>\n",
       "      <td>36.376605</td>\n",
       "      <td>48.370871</td>\n",
       "      <td>0.0</td>\n",
       "      <td>0.0</td>\n",
       "      <td>0.0</td>\n",
       "      <td>486.807710</td>\n",
       "      <td>0.773532</td>\n",
       "    </tr>\n",
       "    <tr>\n",
       "      <th>50%</th>\n",
       "      <td>0.656415</td>\n",
       "      <td>1263.199738</td>\n",
       "      <td>127.581924</td>\n",
       "      <td>46.189617</td>\n",
       "      <td>59.386804</td>\n",
       "      <td>0.0</td>\n",
       "      <td>0.0</td>\n",
       "      <td>0.0</td>\n",
       "      <td>630.937406</td>\n",
       "      <td>0.950904</td>\n",
       "    </tr>\n",
       "    <tr>\n",
       "      <th>75%</th>\n",
       "      <td>0.896615</td>\n",
       "      <td>1465.464244</td>\n",
       "      <td>155.069891</td>\n",
       "      <td>55.987705</td>\n",
       "      <td>71.048780</td>\n",
       "      <td>0.0</td>\n",
       "      <td>0.0</td>\n",
       "      <td>0.0</td>\n",
       "      <td>849.739761</td>\n",
       "      <td>1.186358</td>\n",
       "    </tr>\n",
       "    <tr>\n",
       "      <th>max</th>\n",
       "      <td>1.000000</td>\n",
       "      <td>2438.683333</td>\n",
       "      <td>246.590909</td>\n",
       "      <td>138.626374</td>\n",
       "      <td>139.677419</td>\n",
       "      <td>0.0</td>\n",
       "      <td>0.0</td>\n",
       "      <td>0.0</td>\n",
       "      <td>2456.660553</td>\n",
       "      <td>41.057143</td>\n",
       "    </tr>\n",
       "  </tbody>\n",
       "</table>\n",
       "</div>"
      ],
      "text/plain": [
       "       user_activity  average_calories_per_day  average_carbs_per_day  \\\n",
       "count     780.000000                780.000000             780.000000   \n",
       "mean        0.647918               1261.960751             120.352082   \n",
       "std         0.258654                284.721963              49.927734   \n",
       "min         0.173184                219.796117               0.000000   \n",
       "25%         0.408792               1069.147727              90.110983   \n",
       "50%         0.656415               1263.199738             127.581924   \n",
       "75%         0.896615               1465.464244             155.069891   \n",
       "max         1.000000               2438.683333             246.590909   \n",
       "\n",
       "       average_fat_per_day  average_protein_per_day  \\\n",
       "count           780.000000               780.000000   \n",
       "mean             45.851380                59.543298   \n",
       "std              20.087639                21.803077   \n",
       "min               0.000000                 0.000000   \n",
       "25%              36.376605                48.370871   \n",
       "50%              46.189617                59.386804   \n",
       "75%              55.987705                71.048780   \n",
       "max             138.626374               139.677419   \n",
       "\n",
       "       favourite_food_carbs_part  favourite_food_fat_part  \\\n",
       "count                      780.0                    780.0   \n",
       "mean                         0.0                      0.0   \n",
       "std                          0.0                      0.0   \n",
       "min                          0.0                      0.0   \n",
       "25%                          0.0                      0.0   \n",
       "50%                          0.0                      0.0   \n",
       "75%                          0.0                      0.0   \n",
       "max                          0.0                      0.0   \n",
       "\n",
       "       favourite_food_protein_part  goal_taken_calories_error  \\\n",
       "count                        780.0                 780.000000   \n",
       "mean                           0.0                 699.846099   \n",
       "std                            0.0                 312.229660   \n",
       "min                            0.0                  75.168179   \n",
       "25%                            0.0                 486.807710   \n",
       "50%                            0.0                 630.937406   \n",
       "75%                            0.0                 849.739761   \n",
       "max                            0.0                2456.660553   \n",
       "\n",
       "       overal_calories_consumption_change  \n",
       "count                          780.000000  \n",
       "mean                             1.145104  \n",
       "std                              1.638561  \n",
       "min                              0.000000  \n",
       "25%                              0.773532  \n",
       "50%                              0.950904  \n",
       "75%                              1.186358  \n",
       "max                             41.057143  "
      ]
     },
     "execution_count": 106,
     "metadata": {},
     "output_type": "execute_result"
    }
   ],
   "source": [
    "clusters[5].describe()"
   ]
  },
  {
   "cell_type": "markdown",
   "metadata": {},
   "source": [
    "**Seventh cluster description**"
   ]
  },
  {
   "cell_type": "code",
   "execution_count": 107,
   "metadata": {
    "scrolled": true
   },
   "outputs": [
    {
     "data": {
      "text/html": [
       "<div>\n",
       "<style scoped>\n",
       "    .dataframe tbody tr th:only-of-type {\n",
       "        vertical-align: middle;\n",
       "    }\n",
       "\n",
       "    .dataframe tbody tr th {\n",
       "        vertical-align: top;\n",
       "    }\n",
       "\n",
       "    .dataframe thead th {\n",
       "        text-align: right;\n",
       "    }\n",
       "</style>\n",
       "<table border=\"1\" class=\"dataframe\">\n",
       "  <thead>\n",
       "    <tr style=\"text-align: right;\">\n",
       "      <th></th>\n",
       "      <th>user_activity</th>\n",
       "      <th>average_calories_per_day</th>\n",
       "      <th>average_carbs_per_day</th>\n",
       "      <th>average_fat_per_day</th>\n",
       "      <th>average_protein_per_day</th>\n",
       "      <th>favourite_food_carbs_part</th>\n",
       "      <th>favourite_food_fat_part</th>\n",
       "      <th>favourite_food_protein_part</th>\n",
       "      <th>goal_taken_calories_error</th>\n",
       "      <th>overal_calories_consumption_change</th>\n",
       "    </tr>\n",
       "  </thead>\n",
       "  <tbody>\n",
       "    <tr>\n",
       "      <th>count</th>\n",
       "      <td>1.00000</td>\n",
       "      <td>1.0</td>\n",
       "      <td>1.000000</td>\n",
       "      <td>1.000000</td>\n",
       "      <td>1.000000</td>\n",
       "      <td>1.0</td>\n",
       "      <td>1.0</td>\n",
       "      <td>1.0</td>\n",
       "      <td>1.000000</td>\n",
       "      <td>1.000000</td>\n",
       "    </tr>\n",
       "    <tr>\n",
       "      <th>mean</th>\n",
       "      <td>0.52795</td>\n",
       "      <td>15056.6</td>\n",
       "      <td>65.952941</td>\n",
       "      <td>1605.552941</td>\n",
       "      <td>35.964706</td>\n",
       "      <td>0.0</td>\n",
       "      <td>1.0</td>\n",
       "      <td>0.0</td>\n",
       "      <td>130105.777837</td>\n",
       "      <td>1.641655</td>\n",
       "    </tr>\n",
       "    <tr>\n",
       "      <th>std</th>\n",
       "      <td>NaN</td>\n",
       "      <td>NaN</td>\n",
       "      <td>NaN</td>\n",
       "      <td>NaN</td>\n",
       "      <td>NaN</td>\n",
       "      <td>NaN</td>\n",
       "      <td>NaN</td>\n",
       "      <td>NaN</td>\n",
       "      <td>NaN</td>\n",
       "      <td>NaN</td>\n",
       "    </tr>\n",
       "    <tr>\n",
       "      <th>min</th>\n",
       "      <td>0.52795</td>\n",
       "      <td>15056.6</td>\n",
       "      <td>65.952941</td>\n",
       "      <td>1605.552941</td>\n",
       "      <td>35.964706</td>\n",
       "      <td>0.0</td>\n",
       "      <td>1.0</td>\n",
       "      <td>0.0</td>\n",
       "      <td>130105.777837</td>\n",
       "      <td>1.641655</td>\n",
       "    </tr>\n",
       "    <tr>\n",
       "      <th>25%</th>\n",
       "      <td>0.52795</td>\n",
       "      <td>15056.6</td>\n",
       "      <td>65.952941</td>\n",
       "      <td>1605.552941</td>\n",
       "      <td>35.964706</td>\n",
       "      <td>0.0</td>\n",
       "      <td>1.0</td>\n",
       "      <td>0.0</td>\n",
       "      <td>130105.777837</td>\n",
       "      <td>1.641655</td>\n",
       "    </tr>\n",
       "    <tr>\n",
       "      <th>50%</th>\n",
       "      <td>0.52795</td>\n",
       "      <td>15056.6</td>\n",
       "      <td>65.952941</td>\n",
       "      <td>1605.552941</td>\n",
       "      <td>35.964706</td>\n",
       "      <td>0.0</td>\n",
       "      <td>1.0</td>\n",
       "      <td>0.0</td>\n",
       "      <td>130105.777837</td>\n",
       "      <td>1.641655</td>\n",
       "    </tr>\n",
       "    <tr>\n",
       "      <th>75%</th>\n",
       "      <td>0.52795</td>\n",
       "      <td>15056.6</td>\n",
       "      <td>65.952941</td>\n",
       "      <td>1605.552941</td>\n",
       "      <td>35.964706</td>\n",
       "      <td>0.0</td>\n",
       "      <td>1.0</td>\n",
       "      <td>0.0</td>\n",
       "      <td>130105.777837</td>\n",
       "      <td>1.641655</td>\n",
       "    </tr>\n",
       "    <tr>\n",
       "      <th>max</th>\n",
       "      <td>0.52795</td>\n",
       "      <td>15056.6</td>\n",
       "      <td>65.952941</td>\n",
       "      <td>1605.552941</td>\n",
       "      <td>35.964706</td>\n",
       "      <td>0.0</td>\n",
       "      <td>1.0</td>\n",
       "      <td>0.0</td>\n",
       "      <td>130105.777837</td>\n",
       "      <td>1.641655</td>\n",
       "    </tr>\n",
       "  </tbody>\n",
       "</table>\n",
       "</div>"
      ],
      "text/plain": [
       "       user_activity  average_calories_per_day  average_carbs_per_day  \\\n",
       "count        1.00000                       1.0               1.000000   \n",
       "mean         0.52795                   15056.6              65.952941   \n",
       "std              NaN                       NaN                    NaN   \n",
       "min          0.52795                   15056.6              65.952941   \n",
       "25%          0.52795                   15056.6              65.952941   \n",
       "50%          0.52795                   15056.6              65.952941   \n",
       "75%          0.52795                   15056.6              65.952941   \n",
       "max          0.52795                   15056.6              65.952941   \n",
       "\n",
       "       average_fat_per_day  average_protein_per_day  \\\n",
       "count             1.000000                 1.000000   \n",
       "mean           1605.552941                35.964706   \n",
       "std                    NaN                      NaN   \n",
       "min            1605.552941                35.964706   \n",
       "25%            1605.552941                35.964706   \n",
       "50%            1605.552941                35.964706   \n",
       "75%            1605.552941                35.964706   \n",
       "max            1605.552941                35.964706   \n",
       "\n",
       "       favourite_food_carbs_part  favourite_food_fat_part  \\\n",
       "count                        1.0                      1.0   \n",
       "mean                         0.0                      1.0   \n",
       "std                          NaN                      NaN   \n",
       "min                          0.0                      1.0   \n",
       "25%                          0.0                      1.0   \n",
       "50%                          0.0                      1.0   \n",
       "75%                          0.0                      1.0   \n",
       "max                          0.0                      1.0   \n",
       "\n",
       "       favourite_food_protein_part  goal_taken_calories_error  \\\n",
       "count                          1.0                   1.000000   \n",
       "mean                           0.0              130105.777837   \n",
       "std                            NaN                        NaN   \n",
       "min                            0.0              130105.777837   \n",
       "25%                            0.0              130105.777837   \n",
       "50%                            0.0              130105.777837   \n",
       "75%                            0.0              130105.777837   \n",
       "max                            0.0              130105.777837   \n",
       "\n",
       "       overal_calories_consumption_change  \n",
       "count                            1.000000  \n",
       "mean                             1.641655  \n",
       "std                                   NaN  \n",
       "min                              1.641655  \n",
       "25%                              1.641655  \n",
       "50%                              1.641655  \n",
       "75%                              1.641655  \n",
       "max                              1.641655  "
      ]
     },
     "execution_count": 107,
     "metadata": {},
     "output_type": "execute_result"
    }
   ],
   "source": [
    "clusters[6].describe()"
   ]
  },
  {
   "cell_type": "markdown",
   "metadata": {},
   "source": [
    "**Eighth cluster description**"
   ]
  },
  {
   "cell_type": "code",
   "execution_count": 108,
   "metadata": {},
   "outputs": [
    {
     "data": {
      "text/html": [
       "<div>\n",
       "<style scoped>\n",
       "    .dataframe tbody tr th:only-of-type {\n",
       "        vertical-align: middle;\n",
       "    }\n",
       "\n",
       "    .dataframe tbody tr th {\n",
       "        vertical-align: top;\n",
       "    }\n",
       "\n",
       "    .dataframe thead th {\n",
       "        text-align: right;\n",
       "    }\n",
       "</style>\n",
       "<table border=\"1\" class=\"dataframe\">\n",
       "  <thead>\n",
       "    <tr style=\"text-align: right;\">\n",
       "      <th></th>\n",
       "      <th>user_activity</th>\n",
       "      <th>average_calories_per_day</th>\n",
       "      <th>average_carbs_per_day</th>\n",
       "      <th>average_fat_per_day</th>\n",
       "      <th>average_protein_per_day</th>\n",
       "      <th>favourite_food_carbs_part</th>\n",
       "      <th>favourite_food_fat_part</th>\n",
       "      <th>favourite_food_protein_part</th>\n",
       "      <th>goal_taken_calories_error</th>\n",
       "      <th>overal_calories_consumption_change</th>\n",
       "    </tr>\n",
       "  </thead>\n",
       "  <tbody>\n",
       "    <tr>\n",
       "      <th>count</th>\n",
       "      <td>1.00000</td>\n",
       "      <td>1.000000</td>\n",
       "      <td>1.000000</td>\n",
       "      <td>1.000000</td>\n",
       "      <td>1.000000</td>\n",
       "      <td>1.00000</td>\n",
       "      <td>1.000000</td>\n",
       "      <td>1.00000</td>\n",
       "      <td>1.000000</td>\n",
       "      <td>1.000000</td>\n",
       "    </tr>\n",
       "    <tr>\n",
       "      <th>mean</th>\n",
       "      <td>0.49162</td>\n",
       "      <td>11121.465909</td>\n",
       "      <td>2589.681818</td>\n",
       "      <td>81.215909</td>\n",
       "      <td>267.318182</td>\n",
       "      <td>0.47619</td>\n",
       "      <td>0.206349</td>\n",
       "      <td>0.31746</td>\n",
       "      <td>88815.776913</td>\n",
       "      <td>0.564027</td>\n",
       "    </tr>\n",
       "    <tr>\n",
       "      <th>std</th>\n",
       "      <td>NaN</td>\n",
       "      <td>NaN</td>\n",
       "      <td>NaN</td>\n",
       "      <td>NaN</td>\n",
       "      <td>NaN</td>\n",
       "      <td>NaN</td>\n",
       "      <td>NaN</td>\n",
       "      <td>NaN</td>\n",
       "      <td>NaN</td>\n",
       "      <td>NaN</td>\n",
       "    </tr>\n",
       "    <tr>\n",
       "      <th>min</th>\n",
       "      <td>0.49162</td>\n",
       "      <td>11121.465909</td>\n",
       "      <td>2589.681818</td>\n",
       "      <td>81.215909</td>\n",
       "      <td>267.318182</td>\n",
       "      <td>0.47619</td>\n",
       "      <td>0.206349</td>\n",
       "      <td>0.31746</td>\n",
       "      <td>88815.776913</td>\n",
       "      <td>0.564027</td>\n",
       "    </tr>\n",
       "    <tr>\n",
       "      <th>25%</th>\n",
       "      <td>0.49162</td>\n",
       "      <td>11121.465909</td>\n",
       "      <td>2589.681818</td>\n",
       "      <td>81.215909</td>\n",
       "      <td>267.318182</td>\n",
       "      <td>0.47619</td>\n",
       "      <td>0.206349</td>\n",
       "      <td>0.31746</td>\n",
       "      <td>88815.776913</td>\n",
       "      <td>0.564027</td>\n",
       "    </tr>\n",
       "    <tr>\n",
       "      <th>50%</th>\n",
       "      <td>0.49162</td>\n",
       "      <td>11121.465909</td>\n",
       "      <td>2589.681818</td>\n",
       "      <td>81.215909</td>\n",
       "      <td>267.318182</td>\n",
       "      <td>0.47619</td>\n",
       "      <td>0.206349</td>\n",
       "      <td>0.31746</td>\n",
       "      <td>88815.776913</td>\n",
       "      <td>0.564027</td>\n",
       "    </tr>\n",
       "    <tr>\n",
       "      <th>75%</th>\n",
       "      <td>0.49162</td>\n",
       "      <td>11121.465909</td>\n",
       "      <td>2589.681818</td>\n",
       "      <td>81.215909</td>\n",
       "      <td>267.318182</td>\n",
       "      <td>0.47619</td>\n",
       "      <td>0.206349</td>\n",
       "      <td>0.31746</td>\n",
       "      <td>88815.776913</td>\n",
       "      <td>0.564027</td>\n",
       "    </tr>\n",
       "    <tr>\n",
       "      <th>max</th>\n",
       "      <td>0.49162</td>\n",
       "      <td>11121.465909</td>\n",
       "      <td>2589.681818</td>\n",
       "      <td>81.215909</td>\n",
       "      <td>267.318182</td>\n",
       "      <td>0.47619</td>\n",
       "      <td>0.206349</td>\n",
       "      <td>0.31746</td>\n",
       "      <td>88815.776913</td>\n",
       "      <td>0.564027</td>\n",
       "    </tr>\n",
       "  </tbody>\n",
       "</table>\n",
       "</div>"
      ],
      "text/plain": [
       "       user_activity  average_calories_per_day  average_carbs_per_day  \\\n",
       "count        1.00000                  1.000000               1.000000   \n",
       "mean         0.49162              11121.465909            2589.681818   \n",
       "std              NaN                       NaN                    NaN   \n",
       "min          0.49162              11121.465909            2589.681818   \n",
       "25%          0.49162              11121.465909            2589.681818   \n",
       "50%          0.49162              11121.465909            2589.681818   \n",
       "75%          0.49162              11121.465909            2589.681818   \n",
       "max          0.49162              11121.465909            2589.681818   \n",
       "\n",
       "       average_fat_per_day  average_protein_per_day  \\\n",
       "count             1.000000                 1.000000   \n",
       "mean             81.215909               267.318182   \n",
       "std                    NaN                      NaN   \n",
       "min              81.215909               267.318182   \n",
       "25%              81.215909               267.318182   \n",
       "50%              81.215909               267.318182   \n",
       "75%              81.215909               267.318182   \n",
       "max              81.215909               267.318182   \n",
       "\n",
       "       favourite_food_carbs_part  favourite_food_fat_part  \\\n",
       "count                    1.00000                 1.000000   \n",
       "mean                     0.47619                 0.206349   \n",
       "std                          NaN                      NaN   \n",
       "min                      0.47619                 0.206349   \n",
       "25%                      0.47619                 0.206349   \n",
       "50%                      0.47619                 0.206349   \n",
       "75%                      0.47619                 0.206349   \n",
       "max                      0.47619                 0.206349   \n",
       "\n",
       "       favourite_food_protein_part  goal_taken_calories_error  \\\n",
       "count                      1.00000                   1.000000   \n",
       "mean                       0.31746               88815.776913   \n",
       "std                            NaN                        NaN   \n",
       "min                        0.31746               88815.776913   \n",
       "25%                        0.31746               88815.776913   \n",
       "50%                        0.31746               88815.776913   \n",
       "75%                        0.31746               88815.776913   \n",
       "max                        0.31746               88815.776913   \n",
       "\n",
       "       overal_calories_consumption_change  \n",
       "count                            1.000000  \n",
       "mean                             0.564027  \n",
       "std                                   NaN  \n",
       "min                              0.564027  \n",
       "25%                              0.564027  \n",
       "50%                              0.564027  \n",
       "75%                              0.564027  \n",
       "max                              0.564027  "
      ]
     },
     "execution_count": 108,
     "metadata": {},
     "output_type": "execute_result"
    }
   ],
   "source": [
    "clusters[7].describe()"
   ]
  },
  {
   "cell_type": "markdown",
   "metadata": {},
   "source": [
    "DESCRIPTION OF THESE CLUSTERS - INFERRING USER INFORMATION"
   ]
  },
  {
   "cell_type": "markdown",
   "metadata": {},
   "source": [
    "We think there are possible ways of improving clustering results."
   ]
  },
  {
   "cell_type": "markdown",
   "metadata": {},
   "source": [
    "We tried not to overload data with variables, but we should still be able to add couple of variables without much complication and for a more meaningful clustering. Examples are MRSE-s of distributions of macronutrients and their goal counterparts as we did with calories. A user may be successful in hitting goal calories, while doing it with a wrong diet, so we think it's needed to consider macronutrient goal vs real intake performance."
   ]
  },
  {
   "cell_type": "markdown",
   "metadata": {},
   "source": [
    "CLUSTERING AGAIN AND JUDGING THE PERFORMANCE DIFFERENCE BY INFERRING USER INFORMATION FROM NEW CLUSTERS"
   ]
  },
  {
   "cell_type": "markdown",
   "metadata": {},
   "source": [
    "# Recommendation System"
   ]
  },
  {
   "cell_type": "markdown",
   "metadata": {},
   "source": [
    "Function below merges dictionaries and adds values of the same keys"
   ]
  },
  {
   "cell_type": "code",
   "execution_count": null,
   "metadata": {},
   "outputs": [],
   "source": [
    "def merge_dict(dict1, dict2):\n",
    "    dict3 = {**dict1, **dict2}\n",
    "    for key, value in dict3.items():\n",
    "        # more strict comparison may be needed which includes nutrition comparison\n",
    "        # as the same product may be in different packages with different nutrtition info\n",
    "        if key in dict1 and key in dict2:\n",
    "            new_value = value\n",
    "            new_value[\"count\"] += dict1[key][\"count\"]\n",
    "            dict3[key] = new_value\n",
    "        return dict3"
   ]
  },
  {
   "cell_type": "code",
   "execution_count": null,
   "metadata": {
    "tags": [
     "outputPrepend"
    ]
   },
   "outputs": [],
   "source": [
    "food_analysis = {}\n",
    "\n",
    "for user in altered_data:\n",
    "    food_analysis = merge_dict(food_analysis, altered_data[user][\"food\"])\n",
    "print(food_analysis)"
   ]
  },
  {
   "cell_type": "markdown",
   "metadata": {},
   "source": [
    "Visualize food sorted according to its consumption frequency"
   ]
  },
  {
   "cell_type": "code",
   "execution_count": null,
   "metadata": {},
   "outputs": [],
   "source": []
  }
 ],
 "metadata": {
  "kernelspec": {
   "display_name": "Python 3",
   "language": "python",
   "name": "python3"
  },
  "language_info": {
   "codemirror_mode": {
    "name": "ipython",
    "version": 3
   },
   "file_extension": ".py",
   "mimetype": "text/x-python",
   "name": "python",
   "nbconvert_exporter": "python",
   "pygments_lexer": "ipython3",
   "version": "3.8.3"
  }
 },
 "nbformat": 4,
 "nbformat_minor": 4
}
