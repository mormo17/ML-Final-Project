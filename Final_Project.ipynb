{
 "cells": [
  {
   "cell_type": "code",
   "execution_count": 8,
   "metadata": {},
   "outputs": [],
   "source": [
    "import pandas as pd\n",
    "import json\n",
    "\n",
    "data = pd.read_csv(\"mfp-diaries.tsv\", sep='\\t')\n",
    "# read i-th row\n",
    "i = 0\n",
    "user_id = data.iloc[i,0]\n",
    "date = data.iloc[i,1]\n",
    "food_entries = json.loads(data.iloc[i, 2])\n",
    "agregate_intake_goal = json.loads(data.iloc[i,3])"
   ]
  },
  {
   "cell_type": "code",
   "execution_count": 25,
   "metadata": {},
   "outputs": [
    {
     "name": "stdout",
     "output_type": "stream",
     "text": [
      "[{'meal': 'MY food', 'dishes': [{'nutritions': [{'name': 'Calories', 'value': '412'}, {'name': 'Carbs', 'value': '29'}, {'name': 'Fat', 'value': '24'}, {'name': 'Protein', 'value': '21'}, {'name': 'Sodium', 'value': '258'}, {'name': 'Sugar', 'value': '29'}], 'name': 'my - McDonalds Espresso Pronto® Flat White, 2 TALL'}, {'nutritions': [{'name': 'Calories', 'value': '176'}, {'name': 'Carbs', 'value': '33'}, {'name': 'Fat', 'value': '1'}, {'name': 'Protein', 'value': '5'}, {'name': 'Sodium', 'value': '195'}, {'name': 'Sugar', 'value': '0'}], 'name': 'Uncle Tobys Australia - Vita Brits, 3 Biscuits 33.3g'}, {'nutritions': [{'name': 'Calories', 'value': '342'}, {'name': 'Carbs', 'value': '34'}, {'name': 'Fat', 'value': '12'}, {'name': 'Protein', 'value': '24'}, {'name': 'Sodium', 'value': '402'}, {'name': 'Sugar', 'value': '34'}], 'name': 'Pauls - Smarter White Milk, 600 ml'}, {'nutritions': [{'name': 'Calories', 'value': '500'}, {'name': 'Carbs', 'value': '0'}, {'name': 'Fat', 'value': '0'}, {'name': 'Protein', 'value': '0'}, {'name': 'Sodium', 'value': '0'}, {'name': 'Sugar', 'value': '0'}], 'name': 'Quick Added Calories, 500 calories'}, {'nutritions': [{'name': 'Calories', 'value': '1,000'}, {'name': 'Carbs', 'value': '0'}, {'name': 'Fat', 'value': '0'}, {'name': 'Protein', 'value': '0'}, {'name': 'Sodium', 'value': '0'}, {'name': 'Sugar', 'value': '0'}], 'name': 'Quick Added Calories, 1,000 calories'}], 'sequence': 1}]\n"
     ]
    }
   ],
   "source": [
    "print(food_entries)"
   ]
  }
 ],
 "metadata": {
  "kernelspec": {
   "display_name": "Python 3",
   "language": "python",
   "name": "python3"
  },
  "language_info": {
   "codemirror_mode": {
    "name": "ipython",
    "version": 3
   },
   "file_extension": ".py",
   "mimetype": "text/x-python",
   "name": "python",
   "nbconvert_exporter": "python",
   "pygments_lexer": "ipython3",
   "version": "3.8.3"
  }
 },
 "nbformat": 4,
 "nbformat_minor": 4
}
